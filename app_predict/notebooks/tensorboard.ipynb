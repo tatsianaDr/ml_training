{
 "cells": [
  {
   "cell_type": "code",
   "execution_count": null,
   "metadata": {},
   "outputs": [],
   "source": [
    "# Load the TensorBoard notebook extension\n",
    "%load_ext tensorboard.notebook"
   ]
  },
  {
   "cell_type": "code",
   "execution_count": null,
   "metadata": {},
   "outputs": [],
   "source": [
    "from tensorboard import notebook"
   ]
  },
  {
   "cell_type": "code",
   "execution_count": null,
   "metadata": {},
   "outputs": [],
   "source": [
    "notebook.list()"
   ]
  },
  {
   "cell_type": "code",
   "execution_count": null,
   "metadata": {},
   "outputs": [],
   "source": []
  },
  {
   "cell_type": "code",
   "execution_count": 20,
   "metadata": {},
   "outputs": [
    {
     "data": {
      "text/plain": [
       "Reusing TensorBoard on port 6006 (pid 10560), started 0:01:51 ago. (Use '!kill 10560' to kill it.)"
      ]
     },
     "metadata": {},
     "output_type": "display_data"
    },
    {
     "name": "stderr",
     "output_type": "stream",
     "text": [
      "invalid info file: 'C:\\\\Users\\\\TATSIA~1\\\\AppData\\\\Local\\\\Temp\\\\.tensorboard-info\\\\pid-21276.info'\n",
      "Traceback (most recent call last):\n",
      "  File \"C:\\Users\\Tatsiana_Drabysheusk\\AppData\\Local\\Continuum\\miniconda3\\envs\\Project_New\\lib\\site-packages\\tensorboard\\manager.py\", line 317, in get_all\n",
      "    info = _info_from_string(contents)\n",
      "  File \"C:\\Users\\Tatsiana_Drabysheusk\\AppData\\Local\\Continuum\\miniconda3\\envs\\Project_New\\lib\\site-packages\\tensorboard\\manager.py\", line 158, in _info_from_string\n",
      "    raise ValueError(\"incompatible version: %r\" % (json_value,))\n",
      "ValueError: incompatible version: {'cache_key': 'eyJhcmd1bWVudHMiOlsiLS1sb2dkaXI9Li9rYWdnbGUiLCItLXBvcnQiLCI2MDA2Il0sImNvbmZpZ3VyZV9rd2FyZ3MiOnt9LCJ3b3JraW5nX2RpcmVjdG9yeSI6ImQ6XFxNTFxcbWxfdHJhaW5pbmdcXGFwcF9wcmVkaWN0XFxub3RlYm9va3NcXGxvZ3MifQ==', 'db': '', 'logdir': './kaggle', 'path_prefix': '', 'pid': 21276, 'port': 6006, 'start_time': 1588570588, 'version': '2.0.0'}\n",
      "invalid info file: 'C:\\\\Users\\\\TATSIA~1\\\\AppData\\\\Local\\\\Temp\\\\.tensorboard-info\\\\pid-21276.info'\n",
      "Traceback (most recent call last):\n",
      "  File \"C:\\Users\\Tatsiana_Drabysheusk\\AppData\\Local\\Continuum\\miniconda3\\envs\\Project_New\\lib\\site-packages\\tensorboard\\manager.py\", line 317, in get_all\n",
      "    info = _info_from_string(contents)\n",
      "  File \"C:\\Users\\Tatsiana_Drabysheusk\\AppData\\Local\\Continuum\\miniconda3\\envs\\Project_New\\lib\\site-packages\\tensorboard\\manager.py\", line 158, in _info_from_string\n",
      "    raise ValueError(\"incompatible version: %r\" % (json_value,))\n",
      "ValueError: incompatible version: {'cache_key': 'eyJhcmd1bWVudHMiOlsiLS1sb2dkaXI9Li9rYWdnbGUiLCItLXBvcnQiLCI2MDA2Il0sImNvbmZpZ3VyZV9rd2FyZ3MiOnt9LCJ3b3JraW5nX2RpcmVjdG9yeSI6ImQ6XFxNTFxcbWxfdHJhaW5pbmdcXGFwcF9wcmVkaWN0XFxub3RlYm9va3NcXGxvZ3MifQ==', 'db': '', 'logdir': './kaggle', 'path_prefix': '', 'pid': 21276, 'port': 6006, 'start_time': 1588570588, 'version': '2.0.0'}\n"
     ]
    },
    {
     "data": {
      "text/html": [
       "\n",
       "        <iframe\n",
       "            width=\"100%\"\n",
       "            height=\"600\"\n",
       "            src=\"http://localhost:6006\"\n",
       "            frameborder=\"0\"\n",
       "            allowfullscreen\n",
       "        ></iframe>\n",
       "        "
      ],
      "text/plain": [
       "<IPython.lib.display.IFrame at 0x19242d21b08>"
      ]
     },
     "metadata": {},
     "output_type": "display_data"
    }
   ],
   "source": [
    "%tensorboard --logdir logs/mlp/fit\n"
   ]
  },
  {
   "cell_type": "code",
   "execution_count": null,
   "metadata": {},
   "outputs": [],
   "source": []
  },
  {
   "cell_type": "code",
   "execution_count": null,
   "metadata": {},
   "outputs": [],
   "source": []
  }
 ],
 "metadata": {
  "kernelspec": {
   "display_name": "Python 3",
   "language": "python",
   "name": "python3"
  },
  "language_info": {
   "codemirror_mode": {
    "name": "ipython",
    "version": 3
   },
   "file_extension": ".py",
   "mimetype": "text/x-python",
   "name": "python",
   "nbconvert_exporter": "python",
   "pygments_lexer": "ipython3",
   "version": "3.7.7"
  }
 },
 "nbformat": 4,
 "nbformat_minor": 4
}
