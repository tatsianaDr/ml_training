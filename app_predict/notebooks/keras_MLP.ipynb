{
 "cells": [
  {
   "cell_type": "code",
   "execution_count": 2,
   "metadata": {},
   "outputs": [
    {
     "name": "stderr",
     "output_type": "stream",
     "text": [
      "Using TensorFlow backend.\n"
     ]
    }
   ],
   "source": [
    "from __future__ import print_function\n",
    "import numpy as np\n",
    "import pandas as pd\n",
    "import matplotlib.pyplot as plt\n",
    "from sklearn.feature_extraction.text import TfidfVectorizer\n",
    "from sklearn.pipeline import Pipeline\n",
    "from sklearn.model_selection import GridSearchCV\n",
    "\n",
    "from keras.models import Sequential\n",
    "from keras.layers import Dense, Dropout\n",
    "from keras.utils import to_categorical\n",
    "from keras.callbacks import EarlyStopping\n",
    "from keras.wrappers.scikit_learn import KerasClassifier\n",
    "\n",
    "from keras.preprocessing.text import text_to_word_sequence\n",
    "from sklearn.model_selection import train_test_split\n",
    "\n",
    "import re"
   ]
  },
  {
   "cell_type": "code",
   "execution_count": 3,
   "metadata": {},
   "outputs": [],
   "source": [
    "import os,sys,inspect\n",
    "currentdir=os.path.dirname(os.path.abspath(inspect.getfile(inspect.currentframe())))\n",
    "parentdir=os.path.dirname(currentdir)\n",
    "sys.path.insert(0,parentdir)\n",
    "from src import preprocessing"
   ]
  },
  {
   "cell_type": "code",
   "execution_count": null,
   "metadata": {},
   "outputs": [],
   "source": []
  },
  {
   "cell_type": "code",
   "execution_count": 4,
   "metadata": {},
   "outputs": [],
   "source": [
    "#definition constants\n",
    "RANDOM_STATE = 11\n",
    "TARGET_METRIC = 'f1'\n",
    "TEST_SIZE = 0.15\n"
   ]
  },
  {
   "cell_type": "code",
   "execution_count": 5,
   "metadata": {},
   "outputs": [
    {
     "data": {
      "text/html": [
       "<div>\n",
       "<style scoped>\n",
       "    .dataframe tbody tr th:only-of-type {\n",
       "        vertical-align: middle;\n",
       "    }\n",
       "\n",
       "    .dataframe tbody tr th {\n",
       "        vertical-align: top;\n",
       "    }\n",
       "\n",
       "    .dataframe thead th {\n",
       "        text-align: right;\n",
       "    }\n",
       "</style>\n",
       "<table border=\"1\" class=\"dataframe\">\n",
       "  <thead>\n",
       "    <tr style=\"text-align: right;\">\n",
       "      <th></th>\n",
       "      <th>review</th>\n",
       "      <th>sentiment</th>\n",
       "    </tr>\n",
       "  </thead>\n",
       "  <tbody>\n",
       "    <tr>\n",
       "      <th>0</th>\n",
       "      <td>One of the other reviewers has mentioned that ...</td>\n",
       "      <td>1</td>\n",
       "    </tr>\n",
       "    <tr>\n",
       "      <th>1</th>\n",
       "      <td>A wonderful little production. &lt;br /&gt;&lt;br /&gt;The...</td>\n",
       "      <td>1</td>\n",
       "    </tr>\n",
       "    <tr>\n",
       "      <th>2</th>\n",
       "      <td>I thought this was a wonderful way to spend ti...</td>\n",
       "      <td>1</td>\n",
       "    </tr>\n",
       "    <tr>\n",
       "      <th>3</th>\n",
       "      <td>Basically there's a family where a little boy ...</td>\n",
       "      <td>0</td>\n",
       "    </tr>\n",
       "    <tr>\n",
       "      <th>4</th>\n",
       "      <td>Petter Mattei's \"Love in the Time of Money\" is...</td>\n",
       "      <td>1</td>\n",
       "    </tr>\n",
       "  </tbody>\n",
       "</table>\n",
       "</div>"
      ],
      "text/plain": [
       "                                              review  sentiment\n",
       "0  One of the other reviewers has mentioned that ...          1\n",
       "1  A wonderful little production. <br /><br />The...          1\n",
       "2  I thought this was a wonderful way to spend ti...          1\n",
       "3  Basically there's a family where a little boy ...          0\n",
       "4  Petter Mattei's \"Love in the Time of Money\" is...          1"
      ]
     },
     "execution_count": 5,
     "metadata": {},
     "output_type": "execute_result"
    }
   ],
   "source": [
    "# import & display data\n",
    "data = pd.read_csv('../../data/IMDB_Dataset.csv')\n",
    "data['sentiment'] = data['sentiment'].replace({'positive' : 1, 'negative' : 0})\n",
    "data = data.drop_duplicates()\n",
    "data.head()"
   ]
  },
  {
   "cell_type": "code",
   "execution_count": 6,
   "metadata": {},
   "outputs": [],
   "source": [
    "X = data.review\n",
    "y = data.sentiment\n",
    "X_train, X_test, y_train, y_test = train_test_split(X, \n",
    "                                                    y,\n",
    "                                                    test_size=TEST_SIZE, \n",
    "                                                    random_state=RANDOM_STATE, \n",
    "                                                    stratify = y)\n",
    "# X_train, X_valid, y_train, y_valid = train_test_split(X_train, \n",
    "#                                                     y_train,\n",
    "#                                                     test_size=TEST_SIZE, \n",
    "#                                                     random_state=RANDOM_STATE, \n",
    "#                                                     stratify = y_train)"
   ]
  },
  {
   "cell_type": "code",
   "execution_count": null,
   "metadata": {},
   "outputs": [],
   "source": []
  },
  {
   "cell_type": "markdown",
   "metadata": {},
   "source": [
    "### Preprocessing Data"
   ]
  },
  {
   "cell_type": "code",
   "execution_count": 24,
   "metadata": {},
   "outputs": [],
   "source": [
    "MAX_FEATURES = 50000\n",
    "\n",
    "vectorizer = TfidfVectorizer(ngram_range=(1,2), preprocessor=preprocessing.preprocessing_text, max_features=MAX_FEATURES)\n",
    "\n",
    "vectorizer.fit(X_train)\n",
    "X_train_features = vectorizer.transform(X_train)\n",
    "X_valid_features = vectorizer.transform(X_valid)\n",
    "X_test_features = vectorizer.transform(X_test)"
   ]
  },
  {
   "cell_type": "code",
   "execution_count": null,
   "metadata": {},
   "outputs": [],
   "source": []
  },
  {
   "cell_type": "code",
   "execution_count": 28,
   "metadata": {},
   "outputs": [
    {
     "name": "stdout",
     "output_type": "stream",
     "text": [
      "Train on 35822 samples, validate on 6322 samples\n",
      "Epoch 1/30\n",
      "35822/35822 [==============================] - 52s 1ms/step - loss: 0.2978 - acc: 0.8812 - val_loss: 0.2041 - val_acc: 0.9192\n",
      "Epoch 2/30\n",
      "35822/35822 [==============================] - 50s 1ms/step - loss: 0.0707 - acc: 0.9778 - val_loss: 0.2575 - val_acc: 0.9111\n",
      "Epoch 3/30\n",
      "35822/35822 [==============================] - 46s 1ms/step - loss: 0.0159 - acc: 0.9959 - val_loss: 0.3567 - val_acc: 0.9054\n",
      "Epoch 4/30\n",
      "35822/35822 [==============================] - 46s 1ms/step - loss: 0.0035 - acc: 0.9992 - val_loss: 0.4448 - val_acc: 0.9075\n"
     ]
    }
   ],
   "source": [
    "batch_size = 50\n",
    "epochs = 30\n",
    "callback = EarlyStopping(monitor='val_loss', patience=3)\n",
    "\n",
    "# Create the model\n",
    "model = Sequential()\n",
    "model.add(Dense(64, input_shape=(MAX_FEATURES,), activation='relu'))\n",
    "model.add(Dropout(0.2))\n",
    "model.add(Dense(50, activation='relu'))\n",
    "model.add(Dropout(0.2))\n",
    "model.add(Dense(1, activation='sigmoid'))\n",
    "    \n",
    "model.compile(loss='binary_crossentropy',\n",
    "                  optimizer='adam',\n",
    "                  metrics=['accuracy'])\n",
    "\n",
    "\n",
    "history = model.fit(X_train_features, y_train,\n",
    "                    batch_size=batch_size,\n",
    "                    epochs=epochs,\n",
    "                    callbacks=[callback],\n",
    "                    verbose=1,\n",
    "                    validation_data=(X_valid_features, y_valid),\n",
    "                   shuffle=True,)\n"
   ]
  },
  {
   "cell_type": "code",
   "execution_count": null,
   "metadata": {},
   "outputs": [],
   "source": [
    "\n"
   ]
  },
  {
   "cell_type": "code",
   "execution_count": 29,
   "metadata": {},
   "outputs": [
    {
     "data": {
      "image/png": "[encoded data removed]",
      "text/plain": [
       "<Figure size 432x288 with 1 Axes>"
      ]
     },
     "metadata": {
      "needs_background": "light"
     },
     "output_type": "display_data"
    },
    {
     "data": {
      "image/png": "[encoded data removed]",
      "text/plain": [
       "<Figure size 432x288 with 1 Axes>"
      ]
     },
     "metadata": {
      "needs_background": "light"
     },
     "output_type": "display_data"
    }
   ],
   "source": [
    "plt.plot(history.history['acc'])\n",
    "plt.plot(history.history['val_acc'])\n",
    "plt.title('Model accuracy')\n",
    "plt.ylabel('Accuracy')\n",
    "plt.xlabel('Epoch')\n",
    "plt.legend(['Train', 'Val'], loc='upper left')\n",
    "plt.show()\n",
    "\n",
    "# Plot training & validation loss values\n",
    "plt.plot(history.history['loss'])\n",
    "plt.plot(history.history['val_loss'])\n",
    "plt.title('Model loss')\n",
    "plt.ylabel('Loss')\n",
    "plt.xlabel('Epoch')\n",
    "plt.legend(['Train', 'Val'], loc='upper left')\n",
    "plt.show()"
   ]
  },
  {
   "cell_type": "code",
   "execution_count": 8,
   "metadata": {},
   "outputs": [],
   "source": [
    "# callback = EarlyStopping(monitor='val_loss', patience=3)\n",
    "\n",
    "# Create the model\n",
    "def create_model(dropout=0.1,  dense_nparams=256, optimizer='adam',\n",
    "                 kernel_initializer='uniform',):\n",
    "    model = Sequential()\n",
    "    model.add(Dense(dense_nparams, input_shape=(MAX_FEATURES,), activation='relu', kernel_initializer=kernel_initializer))\n",
    "    model.add(Dropout(dropout))\n",
    "#     for layer_size in dense_layer_sizes:\n",
    "#         model.add(Dense(layer_size, activation='relu'))\n",
    "#         model.add(Dropout(dropout), )\n",
    "    model.add(Dense(dense_nparams, activation='relu'))\n",
    "    model.add(Dense(1, activation='sigmoid'))\n",
    "    \n",
    "    model.compile(loss='binary_crossentropy',\n",
    "                  optimizer=optimizer,\n",
    "                  metrics=['accuracy'])\n",
    "    \n",
    "    return model\n"
   ]
  },
  {
   "cell_type": "code",
   "execution_count": null,
   "metadata": {},
   "outputs": [],
   "source": []
  },
  {
   "cell_type": "code",
   "execution_count": 10,
   "metadata": {},
   "outputs": [],
   "source": [
    "MAX_FEATURES = 50000\n",
    "keras_classifier = KerasClassifier(build_fn=create_model, verbose=1)\n",
    "mlp_estimator = Pipeline([(\"tfidf\", TfidfVectorizer(ngram_range=(1,2), \n",
    "                                                    preprocessor=preprocessing.preprocessing_text, \n",
    "                                                    max_features=MAX_FEATURES)),  \n",
    "                       (\"kc\", keras_classifier)])\n",
    "\n",
    "param_grid = {\n",
    "#     'kc__epochs': [10, 100, ],\n",
    "    'kc__dense_nparams': [32, 256, 512],\n",
    "#     'kc__kernel_initializer': [ 'uniform', 'zeros', 'normal', ], \n",
    "#     'kc__batch_size':[2, 16, 32],\n",
    "#     'kc__optimizer':['RMSprop', 'Adam', 'Adamax', 'sgd'],\n",
    "    'kc__dropout': [0.5, 0.4, 0.3, 0.2, 0.1, 0]\n",
    "}"
   ]
  },
  {
   "cell_type": "code",
   "execution_count": 11,
   "metadata": {},
   "outputs": [
    {
     "name": "stderr",
     "output_type": "stream",
     "text": [
      "C:\\Users\\Tatsiana_Drabysheusk\\AppData\\Local\\Continuum\\miniconda3\\envs\\Project_New\\lib\\site-packages\\sklearn\\model_selection\\_split.py:2053: FutureWarning: You should specify a value for 'cv' instead of relying on the default value. The default value will change from 3 to 5 in version 0.22.\n",
      "  warnings.warn(CV_WARNING, FutureWarning)\n",
      "[Parallel(n_jobs=1)]: Using backend SequentialBackend with 1 concurrent workers.\n"
     ]
    },
    {
     "name": "stdout",
     "output_type": "stream",
     "text": [
      "Fitting 3 folds for each of 18 candidates, totalling 54 fits\n",
      "WARNING:tensorflow:From C:\\Users\\Tatsiana_Drabysheusk\\AppData\\Local\\Continuum\\miniconda3\\envs\\Project_New\\lib\\site-packages\\tensorflow\\python\\framework\\op_def_library.py:263: colocate_with (from tensorflow.python.framework.ops) is deprecated and will be removed in a future version.\n",
      "Instructions for updating:\n",
      "Colocations handled automatically by placer.\n",
      "WARNING:tensorflow:From C:\\Users\\Tatsiana_Drabysheusk\\AppData\\Local\\Continuum\\miniconda3\\envs\\Project_New\\lib\\site-packages\\keras\\backend\\tensorflow_backend.py:3445: calling dropout (from tensorflow.python.ops.nn_ops) with keep_prob is deprecated and will be removed in a future version.\n",
      "Instructions for updating:\n",
      "Please use `rate` instead of `keep_prob`. Rate should be set to `rate = 1 - keep_prob`.\n",
      "WARNING:tensorflow:From C:\\Users\\Tatsiana_Drabysheusk\\AppData\\Local\\Continuum\\miniconda3\\envs\\Project_New\\lib\\site-packages\\tensorflow\\python\\ops\\math_ops.py:3066: to_int32 (from tensorflow.python.ops.math_ops) is deprecated and will be removed in a future version.\n",
      "Instructions for updating:\n",
      "Use tf.cast instead.\n",
      "Epoch 1/1\n",
      "28096/28096 [==============================] - 115s 4ms/step - loss: 0.3360 - acc: 0.8580 6s  - ETA: 3s - los\n",
      "14048/14048 [==============================] - 60s 4ms/step\n",
      "28096/28096 [==============================] - 136s 5ms/step\n",
      "Epoch 1/1\n",
      "28096/28096 [==============================] - 108s 4ms/step - loss: 0.3432 - acc: 0.8519\n",
      "14048/14048 [==============================] - 61s 4ms/step\n",
      "28096/28096 [==============================] - 123s 4ms/step\n",
      "Epoch 1/1\n",
      "28096/28096 [==============================] - 114s 4ms/step - loss: 0.3356 - acc: 0.8580\n",
      "14048/14048 [==============================] - 51s 4ms/step\n",
      "28096/28096 [==============================] - 104s 4ms/step\n",
      "Epoch 1/1\n",
      "28096/28096 [==============================] - 106s 4ms/step - loss: 0.3232 - acc: 0.8637\n",
      "14048/14048 [==============================] - 53s 4ms/step\n",
      "28096/28096 [==============================] - 107s 4ms/step\n",
      "Epoch 1/1\n",
      "28096/28096 [==============================] - 114s 4ms/step - loss: 0.3289 - acc: 0.8591\n",
      "14048/14048 [==============================] - 63s 4ms/step\n",
      "28096/28096 [==============================] - 119s 4ms/step\n",
      "Epoch 1/1\n",
      "28096/28096 [==============================] - 107s 4ms/step - loss: 0.3282 - acc: 0.8566\n",
      "14048/14048 [==============================] - 57s 4ms/step\n",
      "28096/28096 [==============================] - 139s 5ms/step\n",
      "Epoch 1/1\n",
      "28096/28096 [==============================] - 113s 4ms/step - loss: 0.3154 - acc: 0.8673\n",
      "14048/14048 [==============================] - 63s 4ms/step\n",
      "28096/28096 [==============================] - 122s 4ms/step\n",
      "Epoch 1/1\n",
      "28096/28096 [==============================] - 111s 4ms/step - loss: 0.3217 - acc: 0.8607\n",
      "14048/14048 [==============================] - 61s 4ms/step\n",
      "28096/28096 [==============================] - 111s 4ms/step\n",
      "Epoch 1/1\n",
      "28096/28096 [==============================] - 116s 4ms/step - loss: 0.3118 - acc: 0.8658\n",
      "14048/14048 [==============================] - 64s 5ms/step\n",
      "28096/28096 [==============================] - 132s 5ms/step\n",
      "Epoch 1/1\n",
      "28096/28096 [==============================] - 112s 4ms/step - loss: 0.3057 - acc: 0.8722\n",
      "14048/14048 [==============================] - 52s 4ms/step\n",
      "28096/28096 [==============================] - 103s 4ms/step\n",
      "Epoch 1/1\n",
      "28096/28096 [==============================] - 105s 4ms/step - loss: 0.3125 - acc: 0.8700\n",
      "14048/14048 [==============================] - 59s 4ms/step\n",
      "28096/28096 [==============================] - 105s 4ms/step\n",
      "Epoch 1/1\n",
      "28096/28096 [==============================] - 108s 4ms/step - loss: 0.3063 - acc: 0.8731\n",
      "14048/14048 [==============================] - 59s 4ms/step\n",
      "28096/28096 [==============================] - 108s 4ms/step\n",
      "Epoch 1/1\n",
      "28096/28096 [==============================] - 115s 4ms/step - loss: 0.3005 - acc: 0.8769\n",
      "14048/14048 [==============================] - 60s 4ms/step\n",
      "28096/28096 [==============================] - 111s 4ms/step\n",
      "Epoch 1/1\n",
      "28096/28096 [==============================] - 121s 4ms/step - loss: 0.3039 - acc: 0.8743\n",
      "14048/14048 [==============================] - 56s 4ms/step\n",
      "28096/28096 [==============================] - 101s 4ms/step\n",
      "Epoch 1/1\n",
      "28096/28096 [==============================] - 108s 4ms/step - loss: 0.3025 - acc: 0.8764 3s\n",
      "14048/14048 [==============================] - 53s 4ms/step\n",
      "28096/28096 [==============================] - 97s 3ms/step\n",
      "Epoch 1/1\n",
      "28096/28096 [==============================] - 109s 4ms/step - loss: 0.2957 - acc: 0.8782\n",
      "14048/14048 [==============================] - 51s 4ms/step\n",
      "28096/28096 [==============================] - 95s 3ms/step\n",
      "Epoch 1/1\n",
      "28096/28096 [==============================] - 108s 4ms/step - loss: 0.3004 - acc: 0.8793\n",
      "14048/14048 [==============================] - 56s 4ms/step\n",
      "28096/28096 [==============================] - 105s 4ms/step\n",
      "Epoch 1/1\n",
      "28096/28096 [==============================] - 107s 4ms/step - loss: 0.2964 - acc: 0.8749\n",
      "14048/14048 [==============================] - 52s 4ms/step\n",
      "28096/28096 [==============================] - 102s 4ms/step\n",
      "Epoch 1/1\n",
      "28096/28096 [==============================] - 471s 17ms/step - loss: 0.2885 - acc: 0.8773\n",
      "14048/14048 [==============================] - 52s 4ms/step\n",
      "28096/28096 [==============================] - 97s 3ms/step\n",
      "Epoch 1/1\n",
      "28096/28096 [==============================] - 398s 14ms/step - loss: 0.2888 - acc: 0.8743\n",
      "14048/14048 [==============================] - 47s 3ms/step\n",
      "28096/28096 [==============================] - 73s 3ms/step\n",
      "Epoch 1/1\n",
      "28096/28096 [==============================] - 355s 13ms/step - loss: 0.2862 - acc: 0.8757\n",
      "14048/14048 [==============================] - 40s 3ms/step\n",
      "28096/28096 [==============================] - 74s 3ms/step\n",
      "Epoch 1/1\n",
      "28096/28096 [==============================] - 181s 6ms/step - loss: 0.2836 - acc: 0.8762 3s - loss: 0.284\n",
      "14048/14048 [==============================] - 11s 804us/step\n",
      "28096/28096 [==============================] - 19s 690us/step\n",
      "Epoch 1/1\n",
      "28096/28096 [==============================] - 142s 5ms/step - loss: 0.2897 - acc: 0.8749\n",
      "14048/14048 [==============================] - 10s 712us/step\n",
      "28096/28096 [==============================] - 19s 685us/step\n",
      "Epoch 1/1\n",
      "28096/28096 [==============================] - 141s 5ms/step - loss: 0.2859 - acc: 0.8771\n",
      "14048/14048 [==============================] - 10s 723us/step\n",
      "28096/28096 [==============================] - 19s 668us/step\n",
      "Epoch 1/1\n",
      "28096/28096 [==============================] - 141s 5ms/step - loss: 0.2852 - acc: 0.8764\n",
      "14048/14048 [==============================] - 10s 714us/step\n",
      "28096/28096 [==============================] - 19s 676us/step\n",
      "Epoch 1/1\n",
      "28096/28096 [==============================] - 141s 5ms/step - loss: 0.2864 - acc: 0.8791\n",
      "14048/14048 [==============================] - 10s 710us/step\n",
      "28096/28096 [==============================] - 19s 681us/step\n",
      "Epoch 1/1\n",
      "28096/28096 [==============================] - 141s 5ms/step - loss: 0.2839 - acc: 0.8803\n",
      "14048/14048 [==============================] - 10s 711us/step\n",
      "28096/28096 [==============================] - 19s 677us/step\n",
      "Epoch 1/1\n",
      "28096/28096 [==============================] - 140s 5ms/step - loss: 0.2826 - acc: 0.8774\n",
      "14048/14048 [==============================] - 10s 715us/step\n",
      "28096/28096 [==============================] - 19s 682us/step\n",
      "Epoch 1/1\n",
      "28096/28096 [==============================] - 141s 5ms/step - loss: 0.2863 - acc: 0.8786\n",
      "14048/14048 [==============================] - 10s 710us/step\n",
      "28096/28096 [==============================] - 20s 698us/step\n",
      "Epoch 1/1\n",
      "28096/28096 [==============================] - 141s 5ms/step - loss: 0.2799 - acc: 0.8841\n",
      "14048/14048 [==============================] - 10s 710us/step\n",
      "28096/28096 [==============================] - 19s 691us/step\n",
      "Epoch 1/1\n",
      "28096/28096 [==============================] - 141s 5ms/step - loss: 0.2811 - acc: 0.8798\n",
      "14048/14048 [==============================] - 10s 734us/step\n",
      "28096/28096 [==============================] - 19s 694us/step\n",
      "Epoch 1/1\n",
      "28096/28096 [==============================] - 141s 5ms/step - loss: 0.2858 - acc: 0.8773\n",
      "14048/14048 [==============================] - 10s 713us/step\n",
      "28096/28096 [==============================] - 19s 686us/step\n",
      "Epoch 1/1\n",
      "28096/28096 [==============================] - 141s 5ms/step - loss: 0.2803 - acc: 0.8812\n",
      "14048/14048 [==============================] - 10s 717us/step\n",
      "28096/28096 [==============================] - 19s 688us/step\n",
      "Epoch 1/1\n",
      "28096/28096 [==============================] - 142s 5ms/step - loss: 0.2813 - acc: 0.8807\n",
      "14048/14048 [==============================] - 10s 716us/step\n",
      "28096/28096 [==============================] - 19s 686us/step\n",
      "Epoch 1/1\n",
      "28096/28096 [==============================] - 141s 5ms/step - loss: 0.2847 - acc: 0.8779\n",
      "14048/14048 [==============================] - 10s 719us/step\n",
      "28096/28096 [==============================] - 20s 695us/step\n",
      "Epoch 1/1\n",
      "28096/28096 [==============================] - 141s 5ms/step - loss: 0.2808 - acc: 0.8802\n",
      "14048/14048 [==============================] - 10s 723us/step\n",
      "28096/28096 [==============================] - 20s 698us/step\n",
      "Epoch 1/1\n",
      "28096/28096 [==============================] - 264s 9ms/step - loss: 0.2842 - acc: 0.8782\n",
      "14048/14048 [==============================] - 13s 921us/step\n",
      "28096/28096 [==============================] - 26s 910us/step\n",
      "Epoch 1/1\n",
      "28096/28096 [==============================] - 265s 9ms/step - loss: 0.2873 - acc: 0.8768\n",
      "14048/14048 [==============================] - 13s 930us/step\n",
      "28096/28096 [==============================] - 25s 888us/step\n",
      "Epoch 1/1\n",
      "28096/28096 [==============================] - 265s 9ms/step - loss: 0.2821 - acc: 0.8774\n",
      "14048/14048 [==============================] - 13s 957us/step\n",
      "28096/28096 [==============================] - 25s 893us/step\n",
      "Epoch 1/1\n",
      "28096/28096 [==============================] - 266s 9ms/step - loss: 0.2807 - acc: 0.8797\n",
      "14048/14048 [==============================] - 13s 935us/step\n",
      "28096/28096 [==============================] - 25s 890us/step\n",
      "Epoch 1/1\n",
      "28096/28096 [==============================] - 265s 9ms/step - loss: 0.2855 - acc: 0.8778\n",
      "14048/14048 [==============================] - 13s 939us/step\n",
      "28096/28096 [==============================] - 25s 890us/step\n",
      "Epoch 1/1\n",
      "28096/28096 [==============================] - 265s 9ms/step - loss: 0.2790 - acc: 0.8798\n",
      "14048/14048 [==============================] - 13s 934us/step\n",
      "28096/28096 [==============================] - 26s 914us/step\n",
      "Epoch 1/1\n",
      "28096/28096 [==============================] - 266s 9ms/step - loss: 0.2819 - acc: 0.8785\n",
      "14048/14048 [==============================] - 13s 951us/step\n",
      "28096/28096 [==============================] - 27s 952us/step\n",
      "Epoch 1/1\n",
      "28096/28096 [==============================] - 265s 9ms/step - loss: 0.2833 - acc: 0.8777\n",
      "14048/14048 [==============================] - 13s 959us/step\n",
      "28096/28096 [==============================] - 25s 904us/step\n",
      "Epoch 1/1\n",
      "28096/28096 [==============================] - 267s 9ms/step - loss: 0.2790 - acc: 0.8792\n",
      "14048/14048 [==============================] - 14s 1ms/step\n",
      "28096/28096 [==============================] - 26s 914us/step\n",
      "Epoch 1/1\n",
      "28096/28096 [==============================] - 266s 9ms/step - loss: 0.2826 - acc: 0.8813\n",
      "14048/14048 [==============================] - 14s 975us/step\n",
      "28096/28096 [==============================] - 25s 904us/step\n",
      "Epoch 1/1\n",
      "28096/28096 [==============================] - 268s 10ms/step - loss: 0.2846 - acc: 0.8785\n",
      "14048/14048 [==============================] - 14s 977us/step\n",
      "28096/28096 [==============================] - 26s 926us/step\n",
      "Epoch 1/1\n",
      "28096/28096 [==============================] - 270s 10ms/step - loss: 0.2776 - acc: 0.8814\n",
      "14048/14048 [==============================] - 14s 980us/step\n",
      "28096/28096 [==============================] - 26s 938us/step\n",
      "Epoch 1/1\n",
      "28096/28096 [==============================] - 267s 9ms/step - loss: 0.2790 - acc: 0.8817\n",
      "14048/14048 [==============================] - 14s 992us/step\n",
      "28096/28096 [==============================] - 26s 937us/step\n",
      "Epoch 1/1\n",
      "28096/28096 [==============================] - 267s 9ms/step - loss: 0.2820 - acc: 0.8809\n",
      "14048/14048 [==============================] - 14s 974us/step\n",
      "28096/28096 [==============================] - 26s 936us/step\n",
      "Epoch 1/1\n",
      "28096/28096 [==============================] - 270s 10ms/step - loss: 0.2786 - acc: 0.8801\n",
      "14048/14048 [==============================] - 16s 1ms/step\n",
      "28096/28096 [==============================] - 29s 1ms/step\n",
      "Epoch 1/1\n",
      "28096/28096 [==============================] - 277s 10ms/step - loss: 0.2828 - acc: 0.8775\n",
      "14048/14048 [==============================] - 14s 1000us/step\n",
      "28096/28096 [==============================] - 27s 951us/step\n",
      "Epoch 1/1\n",
      "28096/28096 [==============================] - 268s 10ms/step - loss: 0.2832 - acc: 0.8781\n",
      "14048/14048 [==============================] - 14s 997us/step\n",
      "28096/28096 [==============================] - 26s 935us/step\n",
      "Epoch 1/1\n",
      "28096/28096 [==============================] - 267s 10ms/step - loss: 0.2800 - acc: 0.8807\n",
      "14048/14048 [==============================] - 14s 1ms/step\n",
      "28096/28096 [==============================] - 27s 948us/step\n"
     ]
    },
    {
     "name": "stderr",
     "output_type": "stream",
     "text": [
      "[Parallel(n_jobs=1)]: Done  54 out of  54 | elapsed: 402.5min finished\n"
     ]
    },
    {
     "name": "stdout",
     "output_type": "stream",
     "text": [
      "Epoch 1/1\n",
      "42144/42144 [==============================] - 47s 1ms/step - loss: 0.2929 - acc: 0.8799\n"
     ]
    }
   ],
   "source": [
    "\n",
    "grid = GridSearchCV(estimator=mlp_estimator,  \n",
    "                    n_jobs=1, \n",
    "                    verbose=1,\n",
    "                    return_train_score=True,\n",
    "                    param_grid=param_grid,)\n",
    "\n",
    "\n",
    "grid_result = grid.fit(X_train, y_train)"
   ]
  },
  {
   "cell_type": "markdown",
   "metadata": {},
   "source": [
    "https://medium.com/@am.benatmane/keras-hyperparameter-tuning-using-sklearn-pipelines-grid-search-with-cross-validation-ccfc74b0ce9f"
   ]
  },
  {
   "cell_type": "code",
   "execution_count": 37,
   "metadata": {},
   "outputs": [
    {
     "data": {
      "text/plain": [
       "{'name': 'sequential_55',\n",
       " 'layers': [{'class_name': 'Dense',\n",
       "   'config': {'name': 'dense_163',\n",
       "    'trainable': True,\n",
       "    'batch_input_shape': (None, 50000),\n",
       "    'dtype': 'float32',\n",
       "    'units': 32,\n",
       "    'activation': 'relu',\n",
       "    'use_bias': True,\n",
       "    'kernel_initializer': {'class_name': 'RandomUniform',\n",
       "     'config': {'minval': -0.05, 'maxval': 0.05, 'seed': None}},\n",
       "    'bias_initializer': {'class_name': 'Zeros', 'config': {}},\n",
       "    'kernel_regularizer': None,\n",
       "    'bias_regularizer': None,\n",
       "    'activity_regularizer': None,\n",
       "    'kernel_constraint': None,\n",
       "    'bias_constraint': None}},\n",
       "  {'class_name': 'Dropout',\n",
       "   'config': {'name': 'dropout_55',\n",
       "    'trainable': True,\n",
       "    'rate': 0.4,\n",
       "    'noise_shape': None,\n",
       "    'seed': None}},\n",
       "  {'class_name': 'Dense',\n",
       "   'config': {'name': 'dense_164',\n",
       "    'trainable': True,\n",
       "    'units': 32,\n",
       "    'activation': 'relu',\n",
       "    'use_bias': True,\n",
       "    'kernel_initializer': {'class_name': 'VarianceScaling',\n",
       "     'config': {'scale': 1.0,\n",
       "      'mode': 'fan_avg',\n",
       "      'distribution': 'uniform',\n",
       "      'seed': None}},\n",
       "    'bias_initializer': {'class_name': 'Zeros', 'config': {}},\n",
       "    'kernel_regularizer': None,\n",
       "    'bias_regularizer': None,\n",
       "    'activity_regularizer': None,\n",
       "    'kernel_constraint': None,\n",
       "    'bias_constraint': None}},\n",
       "  {'class_name': 'Dense',\n",
       "   'config': {'name': 'dense_165',\n",
       "    'trainable': True,\n",
       "    'units': 1,\n",
       "    'activation': 'sigmoid',\n",
       "    'use_bias': True,\n",
       "    'kernel_initializer': {'class_name': 'VarianceScaling',\n",
       "     'config': {'scale': 1.0,\n",
       "      'mode': 'fan_avg',\n",
       "      'distribution': 'uniform',\n",
       "      'seed': None}},\n",
       "    'bias_initializer': {'class_name': 'Zeros', 'config': {}},\n",
       "    'kernel_regularizer': None,\n",
       "    'bias_regularizer': None,\n",
       "    'activity_regularizer': None,\n",
       "    'kernel_constraint': None,\n",
       "    'bias_constraint': None}}]}"
      ]
     },
     "execution_count": 37,
     "metadata": {},
     "output_type": "execute_result"
    }
   ],
   "source": [
    "    grid_result.best_estimator_.steps[1][1].model.get_config()"
   ]
  },
  {
   "cell_type": "code",
   "execution_count": 34,
   "metadata": {},
   "outputs": [
    {
     "ename": "SyntaxError",
     "evalue": "unexpected EOF while parsing (<ipython-input-34-05d82208da29>, line 2)",
     "output_type": "error",
     "traceback": [
      "\u001b[1;36m  File \u001b[1;32m\"<ipython-input-34-05d82208da29>\"\u001b[1;36m, line \u001b[1;32m2\u001b[0m\n\u001b[1;33m    \u001b[0m\n\u001b[1;37m    ^\u001b[0m\n\u001b[1;31mSyntaxError\u001b[0m\u001b[1;31m:\u001b[0m unexpected EOF while parsing\n"
     ]
    }
   ],
   "source": [
    "def search_huperparams():\n",
    "    "
   ]
  },
  {
   "cell_type": "code",
   "execution_count": null,
   "metadata": {},
   "outputs": [],
   "source": []
  }
 ],
 "metadata": {
  "kernelspec": {
   "display_name": "Python 3",
   "language": "python",
   "name": "python3"
  },
  "language_info": {
   "codemirror_mode": {
    "name": "ipython",
    "version": 3
   },
   "file_extension": ".py",
   "mimetype": "text/x-python",
   "name": "python",
   "nbconvert_exporter": "python",
   "pygments_lexer": "ipython3",
   "version": "3.7.7"
  }
 },
 "nbformat": 4,
 "nbformat_minor": 4
}
