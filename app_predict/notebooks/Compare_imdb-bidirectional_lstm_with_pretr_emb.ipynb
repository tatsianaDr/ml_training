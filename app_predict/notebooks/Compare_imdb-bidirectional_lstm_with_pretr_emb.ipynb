{
 "cells": [
  {
   "cell_type": "code",
   "execution_count": null,
   "metadata": {
    "_cell_guid": "b1076dfc-b9ad-4769-8c92-a6c4dae69d19",
    "_uuid": "8f2839f25d086af736a60e9eeb907d3b93b6e0e5",
    "colab": {},
    "colab_type": "code",
    "id": "QrR1odhe9Xgi"
   },
   "outputs": [],
   "source": [
    "import numpy as np # linear algebra\n",
    "import pandas as pd # data processing, CSV file I/O (e.g. pd.read_csv)\n"
   ]
  },
  {
   "cell_type": "markdown",
   "metadata": {
    "colab_type": "text",
    "id": "1ZiBimeT9Xgn"
   },
   "source": [
    "### Introduction\n",
    "This notebook will build a Bidirectional LSTM network using keras to solve classification sentiment problem for movie reviews.\n"
   ]
  },
  {
   "cell_type": "markdown",
   "metadata": {
    "colab_type": "text",
    "id": "RdNNuZVx9Xgo"
   },
   "source": [
    "Import **libraries**, import **custom scripts** and define **constants**"
   ]
  },
  {
   "cell_type": "code",
   "execution_count": null,
   "metadata": {
    "colab": {},
    "colab_type": "code",
    "id": "DyqtmrZW9Xgp"
   },
   "outputs": [],
   "source": [
    "from tensorflow.keras.models import Sequential\n",
    "from tensorflow.keras.layers import Dense, Embedding, Bidirectional, LSTM, Dropout, SpatialDropout1D \n",
    "from tensorflow.keras.callbacks import EarlyStopping, TensorBoard, ModelCheckpoint\n",
    "\n",
    "from tensorflow.keras.preprocessing.text import Tokenizer\n",
    "from tensorflow.keras.preprocessing.sequence import pad_sequences\n",
    "\n",
    "import tensorflow.keras.backend as K\n",
    "\n",
    "from sklearn.model_selection import train_test_split\n",
    "\n",
    "import re\n"
   ]
  },
  {
   "cell_type": "code",
   "execution_count": 1,
   "metadata": {
    "colab": {
     "base_uri": "https://localhost:8080/",
     "height": 125
    },
    "colab_type": "code",
    "executionInfo": {
     "elapsed": 13774,
     "status": "ok",
     "timestamp": 1589267045206,
     "user": {
      "displayName": "Татьяна Дробышевская",
      "photoUrl": "",
      "userId": "15728260473187636231"
     },
     "user_tz": -180
    },
    "id": "Uz_orJn09oV0",
    "outputId": "4e3a1faf-bd09-4b46-9ec5-ca2a891361c1"
   },
   "outputs": [
    {
     "name": "stdout",
     "output_type": "stream",
     "text": [
      "Go to this URL in a browser: https://accounts.google.com/o/oauth2/auth?client_id=947318989803-6bn6qk8qdgf4n4g3pfee6491hc0brc4i.apps.googleusercontent.com&redirect_uri=urn%3aietf%3awg%3aoauth%3a2.0%3aoob&response_type=code&scope=email%20https%3a%2f%2fwww.googleapis.com%2fauth%2fdocs.test%20https%3a%2f%2fwww.googleapis.com%2fauth%2fdrive%20https%3a%2f%2fwww.googleapis.com%2fauth%2fdrive.photos.readonly%20https%3a%2f%2fwww.googleapis.com%2fauth%2fpeopleapi.readonly\n",
      "\n",
      "Enter your authorization code:\n",
      "··········\n",
      "Mounted at /content/drive\n"
     ]
    }
   ],
   "source": [
    "from google.colab import drive\n",
    "drive.mount('/content/drive')"
   ]
  },
  {
   "cell_type": "code",
   "execution_count": null,
   "metadata": {
    "colab": {},
    "colab_type": "code",
    "id": "Cn2csVfL950B"
   },
   "outputs": [],
   "source": []
  },
  {
   "cell_type": "code",
   "execution_count": null,
   "metadata": {
    "colab": {},
    "colab_type": "code",
    "id": "qVNl-Mny95-c"
   },
   "outputs": [],
   "source": []
  },
  {
   "cell_type": "code",
   "execution_count": null,
   "metadata": {
    "colab": {},
    "colab_type": "code",
    "id": "VELzv5Fk9Xgs"
   },
   "outputs": [],
   "source": [
    "# import all our functions\n",
    "import os,sys\n",
    "sys.path.insert(0,'/content/drive/My Drive/Colab Notebooks/ml_training/app_predict/')\n",
    "from src import preprocessing\n"
   ]
  },
  {
   "cell_type": "code",
   "execution_count": null,
   "metadata": {
    "colab": {},
    "colab_type": "code",
    "id": "lzP8UkuY9Xgv"
   },
   "outputs": [],
   "source": [
    "#definition constants\n",
    "RANDOM_STATE = 11\n",
    "TEST_SIZE = 0.15\n"
   ]
  },
  {
   "cell_type": "code",
   "execution_count": null,
   "metadata": {
    "colab": {},
    "colab_type": "code",
    "id": "fBVKy-g79Xg0"
   },
   "outputs": [],
   "source": []
  },
  {
   "cell_type": "markdown",
   "metadata": {
    "colab_type": "text",
    "id": "aNZLgNzB9Xg5"
   },
   "source": [
    "#### Loading the data and applying the preprocessing"
   ]
  },
  {
   "cell_type": "code",
   "execution_count": null,
   "metadata": {
    "colab": {
     "base_uri": "https://localhost:8080/",
     "height": 204
    },
    "colab_type": "code",
    "executionInfo": {
     "elapsed": 6050,
     "status": "ok",
     "timestamp": 1588918614497,
     "user": {
      "displayName": "Татьяна Дробышевская",
      "photoUrl": "",
      "userId": "15728260473187636231"
     },
     "user_tz": -180
    },
    "id": "YJ-sCHtd9Xg6",
    "outputId": "f75d11c6-a03c-47d1-dc48-1494e8e6eee2"
   },
   "outputs": [
    {
     "data": {
      "text/html": [
       "<div>\n",
       "<style scoped>\n",
       "    .dataframe tbody tr th:only-of-type {\n",
       "        vertical-align: middle;\n",
       "    }\n",
       "\n",
       "    .dataframe tbody tr th {\n",
       "        vertical-align: top;\n",
       "    }\n",
       "\n",
       "    .dataframe thead th {\n",
       "        text-align: right;\n",
       "    }\n",
       "</style>\n",
       "<table border=\"1\" class=\"dataframe\">\n",
       "  <thead>\n",
       "    <tr style=\"text-align: right;\">\n",
       "      <th></th>\n",
       "      <th>review</th>\n",
       "      <th>sentiment</th>\n",
       "    </tr>\n",
       "  </thead>\n",
       "  <tbody>\n",
       "    <tr>\n",
       "      <th>0</th>\n",
       "      <td>one of the other reviewers has mentioned that ...</td>\n",
       "      <td>1</td>\n",
       "    </tr>\n",
       "    <tr>\n",
       "      <th>1</th>\n",
       "      <td>a wonderful little production.   the filming t...</td>\n",
       "      <td>1</td>\n",
       "    </tr>\n",
       "    <tr>\n",
       "      <th>2</th>\n",
       "      <td>i thought this was a wonderful way to spend ti...</td>\n",
       "      <td>1</td>\n",
       "    </tr>\n",
       "    <tr>\n",
       "      <th>3</th>\n",
       "      <td>basically there's a family where a little boy ...</td>\n",
       "      <td>0</td>\n",
       "    </tr>\n",
       "    <tr>\n",
       "      <th>4</th>\n",
       "      <td>petter mattei's \"love in the time of money\" is...</td>\n",
       "      <td>1</td>\n",
       "    </tr>\n",
       "  </tbody>\n",
       "</table>\n",
       "</div>"
      ],
      "text/plain": [
       "                                              review  sentiment\n",
       "0  one of the other reviewers has mentioned that ...          1\n",
       "1  a wonderful little production.   the filming t...          1\n",
       "2  i thought this was a wonderful way to spend ti...          1\n",
       "3  basically there's a family where a little boy ...          0\n",
       "4  petter mattei's \"love in the time of money\" is...          1"
      ]
     },
     "execution_count": 6,
     "metadata": {
      "tags": []
     },
     "output_type": "execute_result"
    }
   ],
   "source": [
    "# import & display data\n",
    "data = pd.read_csv('/content/drive/My Drive/Colab Notebooks/ml_training/data/IMDB_Dataset.csv')\n",
    "data['sentiment'] = data['sentiment'].replace({'positive' : 1, 'negative' : 0})\n",
    "data = data.drop_duplicates()\n",
    "data['review'] = data['review'].apply(lambda x: preprocessing.preprocessing_text(x))\n",
    "data.head()\n"
   ]
  },
  {
   "cell_type": "markdown",
   "metadata": {
    "colab_type": "text",
    "id": "GlCaUozE9Xg9"
   },
   "source": [
    "#### Split the data for the training, the testing and the validation datasets"
   ]
  },
  {
   "cell_type": "code",
   "execution_count": null,
   "metadata": {
    "colab": {},
    "colab_type": "code",
    "id": "hxafVH1B9Xg-"
   },
   "outputs": [],
   "source": [
    "X = data.review\n",
    "y = data.sentiment\n",
    "X_train, X_test, y_train, y_test = train_test_split(X, \n",
    "                                                    y,\n",
    "                                                    test_size=TEST_SIZE, \n",
    "                                                    random_state=RANDOM_STATE, \n",
    "                                                    stratify = y)\n",
    "\n",
    "X_train, X_val, y_train, y_val = train_test_split(X_train, \n",
    "                                                    y_train,\n",
    "                                                    test_size=TEST_SIZE, \n",
    "                                                    random_state=RANDOM_STATE, \n",
    "                                                    stratify = y_train)\n"
   ]
  },
  {
   "cell_type": "markdown",
   "metadata": {
    "colab_type": "text",
    "id": "XIWbBKUA9XhA"
   },
   "source": [
    "### Preprocessing Data"
   ]
  },
  {
   "cell_type": "code",
   "execution_count": null,
   "metadata": {
    "colab": {},
    "colab_type": "code",
    "id": "DWnaE5OR9XhB"
   },
   "outputs": [],
   "source": [
    "max_features = 50000\n",
    "max_len = 1000\n",
    "\n",
    "\n",
    "tokenizer = Tokenizer(num_words=max_features, oov_token='unk')\n",
    "\n",
    "# only fit on train\n",
    "tokenizer.fit_on_texts(X_train)\n",
    "\n",
    "X_train_seq = tokenizer.texts_to_sequences(X_train)\n",
    "X_val_seq = tokenizer.texts_to_sequences(X_val)\n",
    "X_test_seq = tokenizer.texts_to_sequences(X_test)\n",
    "\n",
    "\n",
    "X_train_pad = pad_sequences(X_train_seq, maxlen=max_len)\n",
    "X_val_pad = pad_sequences(X_val_seq, maxlen=max_len)\n",
    "X_test_pad = pad_sequences(X_test_seq, maxlen=max_len)\n"
   ]
  },
  {
   "cell_type": "code",
   "execution_count": null,
   "metadata": {
    "colab": {},
    "colab_type": "code",
    "id": "i3n61cCu-FvQ"
   },
   "outputs": [],
   "source": []
  },
  {
   "cell_type": "markdown",
   "metadata": {
    "colab_type": "text",
    "id": "dk1DYCIC-Mfr"
   },
   "source": [
    "Let's use the **Wiki News FastText Embeddings**"
   ]
  },
  {
   "cell_type": "code",
   "execution_count": null,
   "metadata": {
    "colab": {
     "base_uri": "https://localhost:8080/",
     "height": 71
    },
    "colab_type": "code",
    "executionInfo": {
     "elapsed": 100411,
     "status": "ok",
     "timestamp": 1588918716158,
     "user": {
      "displayName": "Татьяна Дробышевская",
      "photoUrl": "",
      "userId": "15728260473187636231"
     },
     "user_tz": -180
    },
    "id": "FI-muUni-GA7",
    "outputId": "ae9f54ab-5c3b-4e2d-ab6a-7577d353e744"
   },
   "outputs": [
    {
     "name": "stderr",
     "output_type": "stream",
     "text": [
      "/usr/local/lib/python3.6/dist-packages/IPython/core/interactiveshell.py:2822: FutureWarning: arrays to stack must be passed as a \"sequence\" type such as list or tuple. Support for non-sequence iterables such as generators is deprecated as of NumPy 1.16 and will raise an error in the future.\n",
      "  if self.run_code(code, result):\n"
     ]
    }
   ],
   "source": [
    "EMBEDDING_FILE = '/content/drive/My Drive/Colab Notebooks/ml_training/app_predict/notebooks/wiki-news-300d-1M.vec/wiki-news-300d-1M.vec'\n",
    "\n",
    "def get_coefs(word,*arr): \n",
    "    return word, np.asarray(arr, dtype='float32')\n",
    "\n",
    "embeddings_index = dict(get_coefs(*o.split(\" \")) for o in open(EMBEDDING_FILE) if len(o)>100)\n",
    "all_embs = np.stack(embeddings_index.values())\n",
    "emb_mean,emb_std = all_embs.mean(), all_embs.std()\n",
    "embed_size = all_embs.shape[1]\n",
    "\n",
    "word_index = tokenizer.word_index\n",
    "nb_words = min(max_features, len(word_index))\n",
    "\n",
    "embedding_matrix = np.random.normal(emb_mean, emb_std, (nb_words, embed_size))\n",
    "\n",
    "for word, i in word_index.items():\n",
    "    if i >= max_features: continue\n",
    "    embedding_vector = embeddings_index.get(word)\n",
    "    if embedding_vector is not None: embedding_matrix[i] = embedding_vector"
   ]
  },
  {
   "cell_type": "code",
   "execution_count": null,
   "metadata": {
    "colab": {},
    "colab_type": "code",
    "id": "EOo4A_3v-O3q"
   },
   "outputs": [],
   "source": []
  },
  {
   "cell_type": "markdown",
   "metadata": {
    "_cell_guid": "79c7e3d0-c299-4dcb-8224-4455121ee9b0",
    "_uuid": "d629ff2d2480ee46fbb7e2d37f6b5fab8052498a",
    "colab_type": "text",
    "id": "_ZBLU0RV9XhD"
   },
   "source": [
    "### Let's define the function for building and training model"
   ]
  },
  {
   "cell_type": "code",
   "execution_count": null,
   "metadata": {
    "colab": {},
    "colab_type": "code",
    "id": "DepIsP1V9XhD"
   },
   "outputs": [],
   "source": [
    "#function for f1 metric\n",
    "def get_f1(y_true, y_pred): \n",
    "    true_positives = K.sum(K.round(K.clip(y_true * y_pred, 0, 1)))\n",
    "    possible_positives = K.sum(K.round(K.clip(y_true, 0, 1)))\n",
    "    predicted_positives = K.sum(K.round(K.clip(y_pred, 0, 1)))\n",
    "    precision = true_positives / (predicted_positives + K.epsilon())\n",
    "    recall = true_positives / (possible_positives + K.epsilon())\n",
    "    f1_val = 2*(precision*recall)/(precision+recall+K.epsilon())\n",
    "    return f1_val\n",
    "\n",
    "\n",
    "def build_model(dropout_sp = 0.2,\n",
    "                dropout=0.5,\n",
    "                lstm_out=64,\n",
    "                units=32,\n",
    "                activation='relu',   \n",
    "                learning_rate=1e-3, \n",
    "                weights=None ):\n",
    "    model = Sequential()\n",
    "    model.add(SpatialDropout1D(dropout_sp))\n",
    "    model.add(Embedding(max_features, embed_size, input_length=max_len, weights=weights ))\n",
    "    model.add(Dropout(dropout))\n",
    "    model.add(Bidirectional(LSTM(lstm_out)))\n",
    "    model.add(Dropout(dropout))\n",
    "    model.add(Dense(units, activation=activation))\n",
    "    model.add(Dropout(dropout))\n",
    "    model.add(Dense(1, activation='sigmoid'))\n",
    "    optimizer = Adam(lr=learning_rate)\n",
    "\n",
    "    model.compile(optimizer, 'binary_crossentropy', metrics=[get_f1])\n",
    "    return model\n",
    "\n",
    "\n",
    "def train_model(lstm_out=64, \n",
    "                dropout=0.5, \n",
    "                weights = None,\n",
    "                optimizer='adam',\n",
    "                batch_size=32,\n",
    "                epochs=20,\n",
    "                activation='relu', \n",
    "                units=32, \n",
    "                log_dir='logs/bilstm',\n",
    "                filepath='model.hdf5'):\n",
    "    tensorboard_callback = TensorBoard(log_dir=log_dir, histogram_freq=1)\n",
    "    early_stop = EarlyStopping(monitor='val_loss', \n",
    "                               patience=3)\n",
    "    cp_callback = ModelCheckpoint(filepath=filepath,\n",
    "                                  save_best_only=True,\n",
    "                                  verbose=1)\n",
    "    \n",
    "    model = build_model(lstm_out, dropout, optimizer, activation, units, weights)\n",
    "    model.summary()\n",
    "    history = model.fit(X_train_pad, y_train,\n",
    "                        batch_size=batch_size,\n",
    "                        epochs=epochs,\n",
    "                        verbose=2, \n",
    "                        callbacks=[tensorboard_callback, early_stop, cp_callback],                    \n",
    "                        validation_data=(X_val_pad, y_val))\n",
    "    return history\n",
    "    \n",
    "\n",
    "    "
   ]
  },
  {
   "cell_type": "markdown",
   "metadata": {
    "colab_type": "text",
    "id": "73USMPtJ9XhF"
   },
   "source": [
    "### Train different models"
   ]
  },
  {
   "cell_type": "markdown",
   "metadata": {
    "colab_type": "text",
    "id": "1-RDpAyu9XhG"
   },
   "source": [
    "Result of exploring let's save to Dataframe"
   ]
  },
  {
   "cell_type": "code",
   "execution_count": null,
   "metadata": {
    "colab": {},
    "colab_type": "code",
    "id": "IeJOyDwe9XhG"
   },
   "outputs": [],
   "source": [
    "models_research_df = pd.DataFrame(columns=['Model',\n",
    "                                           'loss',\n",
    "                                           'f1_score',\n",
    "                                           'val_loss',\n",
    "                                           'val_f1'], )\n",
    "results = {}\n",
    "# add data to result research dataframe\n",
    "def add_data_df(table_df_for_add, model_name, history_research):\n",
    "    index = history_research['val_loss'].index(min(history_research['val_loss']))\n",
    "    model_research = (model_name, history_research['loss'][index], history_research['get_f1'][index], history_research['val_loss'][index], history_research['val_get_f1'][index])\n",
    "    if any([list(row.values ) == list(model_research) for _, row in table_df_for_add.iterrows()]):\n",
    "        return\n",
    "    table_df_for_add.loc[len(table_df_for_add)] = model_research\n"
   ]
  },
  {
   "cell_type": "markdown",
   "metadata": {
    "colab_type": "text",
    "id": "IWTd1vJO9XhJ"
   },
   "source": [
    "### Model_1\n",
    "The model with default params for this model with `dropout=0` "
   ]
  },
  {
   "cell_type": "code",
   "execution_count": null,
   "metadata": {
    "colab": {
     "base_uri": "https://localhost:8080/",
     "height": 697
    },
    "colab_type": "code",
    "executionInfo": {
     "elapsed": 1380060,
     "status": "ok",
     "timestamp": 1588858834338,
     "user": {
      "displayName": "Татьяна Дробышевская",
      "photoUrl": "",
      "userId": "15728260473187636231"
     },
     "user_tz": -180
    },
    "id": "-XNULB7j9XhJ",
    "outputId": "e744680d-b1dc-4fe0-b5be-5700096fd62a"
   },
   "outputs": [
    {
     "name": "stdout",
     "output_type": "stream",
     "text": [
      "Model: \"sequential\"\n",
      "_________________________________________________________________\n",
      "Layer (type)                 Output Shape              Param #   \n",
      "=================================================================\n",
      "embedding (Embedding)        (None, 1000, 300)         15000000  \n",
      "_________________________________________________________________\n",
      "bidirectional (Bidirectional (None, 128)               186880    \n",
      "_________________________________________________________________\n",
      "dropout (Dropout)            (None, 128)               0         \n",
      "_________________________________________________________________\n",
      "dense (Dense)                (None, 32)                4128      \n",
      "_________________________________________________________________\n",
      "dropout_1 (Dropout)          (None, 32)                0         \n",
      "_________________________________________________________________\n",
      "dense_1 (Dense)              (None, 1)                 33        \n",
      "=================================================================\n",
      "Total params: 15,191,041\n",
      "Trainable params: 15,191,041\n",
      "Non-trainable params: 0\n",
      "_________________________________________________________________\n",
      "Epoch 1/20\n",
      "\n",
      "Epoch 00001: val_loss improved from inf to 0.52657, saving model to Model_1_01-0.78.hdf5\n",
      "1120/1120 - 273s - loss: 0.4502 - get_f1: 0.7814 - val_loss: 0.5266 - val_get_f1: 0.7828\n",
      "Epoch 2/20\n",
      "\n",
      "Epoch 00002: val_loss improved from 0.52657 to 0.27843, saving model to Model_1_02-0.88.hdf5\n",
      "1120/1120 - 272s - loss: 0.2352 - get_f1: 0.9054 - val_loss: 0.2784 - val_get_f1: 0.8836\n",
      "Epoch 3/20\n",
      "\n",
      "Epoch 00003: val_loss did not improve from 0.27843\n",
      "1120/1120 - 272s - loss: 0.1424 - get_f1: 0.9476 - val_loss: 0.3685 - val_get_f1: 0.8769\n",
      "Epoch 4/20\n",
      "\n",
      "Epoch 00004: val_loss did not improve from 0.27843\n",
      "1120/1120 - 272s - loss: 0.0780 - get_f1: 0.9727 - val_loss: 0.3804 - val_get_f1: 0.8863\n",
      "Epoch 5/20\n",
      "\n",
      "Epoch 00005: val_loss did not improve from 0.27843\n",
      "1120/1120 - 271s - loss: 0.0551 - get_f1: 0.9817 - val_loss: 0.4554 - val_get_f1: 0.8820\n"
     ]
    }
   ],
   "source": [
    "history_1 = train_model(filepath='Model_1_{epoch:02d}-{val_get_f1:.2f}.hdf5',\n",
    "           log_dir='logs/bilstm/model_1',\n",
    "           dropout=0)\n",
    "results['model_1'] = history_1"
   ]
  },
  {
   "cell_type": "code",
   "execution_count": null,
   "metadata": {
    "colab": {},
    "colab_type": "code",
    "id": "uP6zT1TX9XhM"
   },
   "outputs": [],
   "source": [
    "\n"
   ]
  },
  {
   "cell_type": "markdown",
   "metadata": {
    "colab_type": "text",
    "id": "tVUALtGP9XhO"
   },
   "source": [
    "### Model_2\n",
    "The model with `dropout=0` and pretrained Embeddings"
   ]
  },
  {
   "cell_type": "code",
   "execution_count": null,
   "metadata": {
    "colab": {
     "base_uri": "https://localhost:8080/",
     "height": 697
    },
    "colab_type": "code",
    "executionInfo": {
     "elapsed": 2744685,
     "status": "ok",
     "timestamp": 1588860198977,
     "user": {
      "displayName": "Татьяна Дробышевская",
      "photoUrl": "",
      "userId": "15728260473187636231"
     },
     "user_tz": -180
    },
    "id": "99nTqnwT9XhO",
    "outputId": "9d47cc02-3acc-4a7b-95fa-d113824cd37a"
   },
   "outputs": [
    {
     "name": "stdout",
     "output_type": "stream",
     "text": [
      "Model: \"sequential_1\"\n",
      "_________________________________________________________________\n",
      "Layer (type)                 Output Shape              Param #   \n",
      "=================================================================\n",
      "embedding_1 (Embedding)      (None, 1000, 300)         15000000  \n",
      "_________________________________________________________________\n",
      "bidirectional_1 (Bidirection (None, 128)               186880    \n",
      "_________________________________________________________________\n",
      "dropout_2 (Dropout)          (None, 128)               0         \n",
      "_________________________________________________________________\n",
      "dense_2 (Dense)              (None, 32)                4128      \n",
      "_________________________________________________________________\n",
      "dropout_3 (Dropout)          (None, 32)                0         \n",
      "_________________________________________________________________\n",
      "dense_3 (Dense)              (None, 1)                 33        \n",
      "=================================================================\n",
      "Total params: 15,191,041\n",
      "Trainable params: 15,191,041\n",
      "Non-trainable params: 0\n",
      "_________________________________________________________________\n",
      "Epoch 1/20\n",
      "\n",
      "Epoch 00001: val_loss improved from inf to 0.36827, saving model to Model_2_01-0.85.hdf5\n",
      "1120/1120 - 274s - loss: 0.4342 - get_f1: 0.7823 - val_loss: 0.3683 - val_get_f1: 0.8542\n",
      "Epoch 2/20\n",
      "\n",
      "Epoch 00002: val_loss improved from 0.36827 to 0.25420, saving model to Model_2_02-0.90.hdf5\n",
      "1120/1120 - 272s - loss: 0.2072 - get_f1: 0.9187 - val_loss: 0.2542 - val_get_f1: 0.9012\n",
      "Epoch 3/20\n",
      "\n",
      "Epoch 00003: val_loss did not improve from 0.25420\n",
      "1120/1120 - 271s - loss: 0.0939 - get_f1: 0.9676 - val_loss: 0.2981 - val_get_f1: 0.8926\n",
      "Epoch 4/20\n",
      "\n",
      "Epoch 00004: val_loss did not improve from 0.25420\n",
      "1120/1120 - 271s - loss: 0.0385 - get_f1: 0.9880 - val_loss: 0.4282 - val_get_f1: 0.8858\n",
      "Epoch 5/20\n",
      "\n",
      "Epoch 00005: val_loss did not improve from 0.25420\n",
      "1120/1120 - 272s - loss: 0.0158 - get_f1: 0.9956 - val_loss: 0.6313 - val_get_f1: 0.8863\n"
     ]
    }
   ],
   "source": [
    "history_2 = train_model(filepath='Model_2_{epoch:02d}-{val_get_f1:.2f}.hdf5',\n",
    "           log_dir='logs/bilstm/model_2',\n",
    "           dropout=0, \n",
    "           weights=[embedding_matrix])\n",
    "results['model_2'] = history_2"
   ]
  },
  {
   "cell_type": "code",
   "execution_count": null,
   "metadata": {
    "colab": {},
    "colab_type": "code",
    "id": "u-nwQeWk9XhR"
   },
   "outputs": [],
   "source": []
  },
  {
   "cell_type": "code",
   "execution_count": null,
   "metadata": {
    "colab": {},
    "colab_type": "code",
    "id": "BGQeefx29Xhv"
   },
   "outputs": [],
   "source": []
  },
  {
   "cell_type": "markdown",
   "metadata": {
    "colab_type": "text",
    "id": "rtnT3b9g9Xhw"
   },
   "source": [
    "### Result of exploring models"
   ]
  },
  {
   "cell_type": "code",
   "execution_count": null,
   "metadata": {
    "colab": {},
    "colab_type": "code",
    "id": "XnPb2xde9Xhx"
   },
   "outputs": [],
   "source": [
    "for result in results:\n",
    "    add_data_df(models_research_df, result, results.get(result).history)"
   ]
  },
  {
   "cell_type": "code",
   "execution_count": null,
   "metadata": {
    "colab": {
     "base_uri": "https://localhost:8080/",
     "height": 111
    },
    "colab_type": "code",
    "executionInfo": {
     "elapsed": 2744679,
     "status": "ok",
     "timestamp": 1588860198981,
     "user": {
      "displayName": "Татьяна Дробышевская",
      "photoUrl": "",
      "userId": "15728260473187636231"
     },
     "user_tz": -180
    },
    "id": "c-x2ItJn9Xhz",
    "outputId": "b6ecfa07-6e56-4607-a2b1-fbeba101c85d"
   },
   "outputs": [
    {
     "data": {
      "text/html": [
       "<div>\n",
       "<style scoped>\n",
       "    .dataframe tbody tr th:only-of-type {\n",
       "        vertical-align: middle;\n",
       "    }\n",
       "\n",
       "    .dataframe tbody tr th {\n",
       "        vertical-align: top;\n",
       "    }\n",
       "\n",
       "    .dataframe thead th {\n",
       "        text-align: right;\n",
       "    }\n",
       "</style>\n",
       "<table border=\"1\" class=\"dataframe\">\n",
       "  <thead>\n",
       "    <tr style=\"text-align: right;\">\n",
       "      <th></th>\n",
       "      <th>Model</th>\n",
       "      <th>loss</th>\n",
       "      <th>f1_score</th>\n",
       "      <th>val_loss</th>\n",
       "      <th>val_f1</th>\n",
       "    </tr>\n",
       "  </thead>\n",
       "  <tbody>\n",
       "    <tr>\n",
       "      <th>0</th>\n",
       "      <td>model_1</td>\n",
       "      <td>0.235243</td>\n",
       "      <td>0.905369</td>\n",
       "      <td>0.278430</td>\n",
       "      <td>0.883599</td>\n",
       "    </tr>\n",
       "    <tr>\n",
       "      <th>1</th>\n",
       "      <td>model_2</td>\n",
       "      <td>0.207167</td>\n",
       "      <td>0.918736</td>\n",
       "      <td>0.254204</td>\n",
       "      <td>0.901164</td>\n",
       "    </tr>\n",
       "  </tbody>\n",
       "</table>\n",
       "</div>"
      ],
      "text/plain": [
       "     Model      loss  f1_score  val_loss    val_f1\n",
       "0  model_1  0.235243  0.905369  0.278430  0.883599\n",
       "1  model_2  0.207167  0.918736  0.254204  0.901164"
      ]
     },
     "execution_count": 16,
     "metadata": {
      "tags": []
     },
     "output_type": "execute_result"
    }
   ],
   "source": [
    "models_research_df"
   ]
  },
  {
   "cell_type": "code",
   "execution_count": null,
   "metadata": {
    "colab": {},
    "colab_type": "code",
    "id": "kRhUrqALJQGh"
   },
   "outputs": [],
   "source": []
  },
  {
   "cell_type": "markdown",
   "metadata": {
    "colab_type": "text",
    "id": "pDuRL9I37uKb"
   },
   "source": [
    "The model with pretrained embeddings has best metric f1"
   ]
  },
  {
   "cell_type": "code",
   "execution_count": null,
   "metadata": {
    "colab": {},
    "colab_type": "code",
    "id": "miLo6lba8Euz"
   },
   "outputs": [],
   "source": []
  }
 ],
 "metadata": {
  "accelerator": "GPU",
  "colab": {
   "collapsed_sections": [],
   "name": "Compare_imdb-bidirectionallstm_with_pretr_emb.ipynb",
   "provenance": [
    {
     "file_id": "1o8vWrLjgGvWsu9MOkp-SWOZuzXOQeTtv",
     "timestamp": 1588918502035
    }
   ],
   "toc_visible": true
  },
  "kernelspec": {
   "display_name": "Python 3",
   "language": "python",
   "name": "python3"
  },
  "language_info": {
   "codemirror_mode": {
    "name": "ipython",
    "version": 3
   },
   "file_extension": ".py",
   "mimetype": "text/x-python",
   "name": "python",
   "nbconvert_exporter": "python",
   "pygments_lexer": "ipython3",
   "version": "3.7.7"
  }
 },
 "nbformat": 4,
 "nbformat_minor": 4
}
