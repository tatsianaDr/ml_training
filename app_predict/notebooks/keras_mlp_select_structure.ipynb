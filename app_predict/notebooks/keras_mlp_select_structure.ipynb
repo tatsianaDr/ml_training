{
 "cells": [
  {
   "cell_type": "markdown",
   "metadata": {},
   "source": [
    "## Selecting a deep learning model with MLP"
   ]
  },
  {
   "cell_type": "markdown",
   "metadata": {},
   "source": [
    "Next step for our research is deep learning. For this stage we try using **MLP model** with keras. "
   ]
  },
  {
   "cell_type": "markdown",
   "metadata": {},
   "source": [
    "####  Import libraries,  import custom scripts and define constants  "
   ]
  },
  {
   "cell_type": "code",
   "execution_count": 2,
   "metadata": {},
   "outputs": [],
   "source": [
    "# Load the TensorBoard notebook extension\n",
    "%load_ext tensorboard.notebook\n"
   ]
  },
  {
   "cell_type": "code",
   "execution_count": 10,
   "metadata": {},
   "outputs": [],
   "source": [
    "import tensorflow as tf\n",
    "import datetime\n",
    "\n",
    "import numpy as np\n",
    "import pandas as pd\n",
    "import matplotlib.pyplot as plt\n",
    "from sklearn.feature_extraction.text import TfidfVectorizer\n",
    "\n",
    "from tensorflow.keras.models import Sequential\n",
    "from tensorflow.keras.layers import Dense, Dropout\n",
    "from tensorflow.keras.layers import BatchNormalization\n",
    "from tensorflow.keras.callbacks import EarlyStopping, TensorBoard, ModelCheckpoint\n",
    "from tensorflow.keras import regularizers\n",
    "from tensorflow.keras.wrappers.scikit_learn import KerasClassifier\n",
    "\n",
    "import tensorflow.keras.backend as K\n",
    "\n",
    "from sklearn.model_selection import train_test_split\n",
    "from sklearn.pipeline import Pipeline\n",
    "from sklearn.model_selection import RandomizedSearchCV\n",
    "from sklearn.metrics import f1_score, accuracy_score\n",
    "\n",
    "import re"
   ]
  },
  {
   "cell_type": "code",
   "execution_count": null,
   "metadata": {},
   "outputs": [],
   "source": []
  },
  {
   "cell_type": "code",
   "execution_count": 4,
   "metadata": {},
   "outputs": [],
   "source": [
    "import os,sys,inspect\n",
    "currentdir=os.path.dirname(os.path.abspath(inspect.getfile(inspect.currentframe())))\n",
    "parentdir=os.path.dirname(currentdir)\n",
    "sys.path.insert(0,parentdir)\n",
    "from src import preprocessing"
   ]
  },
  {
   "cell_type": "code",
   "execution_count": null,
   "metadata": {},
   "outputs": [],
   "source": []
  },
  {
   "cell_type": "code",
   "execution_count": 5,
   "metadata": {},
   "outputs": [],
   "source": [
    "#definition constants\n",
    "RANDOM_STATE = 11\n",
    "TARGET_METRIC = 'f1'\n",
    "TEST_SIZE = 0.15\n"
   ]
  },
  {
   "cell_type": "code",
   "execution_count": null,
   "metadata": {},
   "outputs": [],
   "source": []
  },
  {
   "cell_type": "markdown",
   "metadata": {},
   "source": [
    "####  Loading the data"
   ]
  },
  {
   "cell_type": "code",
   "execution_count": 6,
   "metadata": {},
   "outputs": [
    {
     "data": {
      "text/html": [
       "<div>\n",
       "<style scoped>\n",
       "    .dataframe tbody tr th:only-of-type {\n",
       "        vertical-align: middle;\n",
       "    }\n",
       "\n",
       "    .dataframe tbody tr th {\n",
       "        vertical-align: top;\n",
       "    }\n",
       "\n",
       "    .dataframe thead th {\n",
       "        text-align: right;\n",
       "    }\n",
       "</style>\n",
       "<table border=\"1\" class=\"dataframe\">\n",
       "  <thead>\n",
       "    <tr style=\"text-align: right;\">\n",
       "      <th></th>\n",
       "      <th>review</th>\n",
       "      <th>sentiment</th>\n",
       "    </tr>\n",
       "  </thead>\n",
       "  <tbody>\n",
       "    <tr>\n",
       "      <th>0</th>\n",
       "      <td>One of the other reviewers has mentioned that ...</td>\n",
       "      <td>1</td>\n",
       "    </tr>\n",
       "    <tr>\n",
       "      <th>1</th>\n",
       "      <td>A wonderful little production. &lt;br /&gt;&lt;br /&gt;The...</td>\n",
       "      <td>1</td>\n",
       "    </tr>\n",
       "    <tr>\n",
       "      <th>2</th>\n",
       "      <td>I thought this was a wonderful way to spend ti...</td>\n",
       "      <td>1</td>\n",
       "    </tr>\n",
       "    <tr>\n",
       "      <th>3</th>\n",
       "      <td>Basically there's a family where a little boy ...</td>\n",
       "      <td>0</td>\n",
       "    </tr>\n",
       "    <tr>\n",
       "      <th>4</th>\n",
       "      <td>Petter Mattei's \"Love in the Time of Money\" is...</td>\n",
       "      <td>1</td>\n",
       "    </tr>\n",
       "  </tbody>\n",
       "</table>\n",
       "</div>"
      ],
      "text/plain": [
       "                                              review  sentiment\n",
       "0  One of the other reviewers has mentioned that ...          1\n",
       "1  A wonderful little production. <br /><br />The...          1\n",
       "2  I thought this was a wonderful way to spend ti...          1\n",
       "3  Basically there's a family where a little boy ...          0\n",
       "4  Petter Mattei's \"Love in the Time of Money\" is...          1"
      ]
     },
     "execution_count": 6,
     "metadata": {},
     "output_type": "execute_result"
    }
   ],
   "source": [
    "# import & display data\n",
    "data = pd.read_csv('../../data/IMDB_Dataset.csv')\n",
    "data['sentiment'] = data['sentiment'].replace({'positive' : 1, 'negative' : 0})\n",
    "data = data.drop_duplicates()\n",
    "data.head()"
   ]
  },
  {
   "cell_type": "code",
   "execution_count": null,
   "metadata": {},
   "outputs": [],
   "source": []
  },
  {
   "cell_type": "markdown",
   "metadata": {},
   "source": [
    "####  Split data for training, testing and validation sets"
   ]
  },
  {
   "cell_type": "code",
   "execution_count": 7,
   "metadata": {},
   "outputs": [],
   "source": [
    "X = data.review\n",
    "y = data.sentiment\n",
    "X_train, X_test, y_train, y_test = train_test_split(X, \n",
    "                                                    y,\n",
    "                                                    test_size=TEST_SIZE, \n",
    "                                                    random_state=RANDOM_STATE, \n",
    "                                                    stratify = y)\n",
    "X_train, X_valid, y_train, y_valid = train_test_split(X_train, \n",
    "                                                    y_train,\n",
    "                                                    test_size=TEST_SIZE, \n",
    "                                                    random_state=RANDOM_STATE, \n",
    "                                                    stratify = y_train)"
   ]
  },
  {
   "cell_type": "code",
   "execution_count": null,
   "metadata": {},
   "outputs": [],
   "source": []
  },
  {
   "cell_type": "markdown",
   "metadata": {},
   "source": [
    "#### Preprocessing Data"
   ]
  },
  {
   "cell_type": "markdown",
   "metadata": {},
   "source": [
    "For pre-processing and vectorization, let's use the approach from the previous stage, which received the best performance.\n",
    "\n",
    "For pre-processing:\n",
    "* the removal of html-tags,\n",
    "* the separation of numbers and letters.  \n",
    "\n",
    "For vectorization we use  `TfidfVectorizer(ngram_range=(1,2))`"
   ]
  },
  {
   "cell_type": "code",
   "execution_count": 8,
   "metadata": {},
   "outputs": [],
   "source": [
    "MAX_FEATURES = 50000\n",
    "\n",
    "vectorizer = TfidfVectorizer(ngram_range=(1,2), preprocessor=preprocessing.preprocessing_text, max_features=MAX_FEATURES)\n",
    "\n",
    "vectorizer.fit(X_train)\n",
    "X_train_features = vectorizer.transform(X_train)\n",
    "X_valid_features = vectorizer.transform(X_valid)\n",
    "X_test_features = vectorizer.transform(X_test)"
   ]
  },
  {
   "cell_type": "code",
   "execution_count": null,
   "metadata": {},
   "outputs": [],
   "source": []
  },
  {
   "cell_type": "markdown",
   "metadata": {},
   "source": [
    "#### Creating the model"
   ]
  },
  {
   "cell_type": "code",
   "execution_count": 9,
   "metadata": {},
   "outputs": [
    {
     "name": "stdout",
     "output_type": "stream",
     "text": [
      "WARNING:tensorflow:From C:\\Users\\Tatsiana_Drabysheusk\\AppData\\Local\\Continuum\\miniconda3\\envs\\Project_New\\lib\\site-packages\\tensorflow\\python\\ops\\resource_variable_ops.py:435: colocate_with (from tensorflow.python.framework.ops) is deprecated and will be removed in a future version.\n",
      "Instructions for updating:\n",
      "Colocations handled automatically by placer.\n",
      "WARNING:tensorflow:From C:\\Users\\Tatsiana_Drabysheusk\\AppData\\Local\\Continuum\\miniconda3\\envs\\Project_New\\lib\\site-packages\\tensorflow\\python\\keras\\layers\\core.py:143: calling dropout (from tensorflow.python.ops.nn_ops) with keep_prob is deprecated and will be removed in a future version.\n",
      "Instructions for updating:\n",
      "Please use `rate` instead of `keep_prob`. Rate should be set to `rate = 1 - keep_prob`.\n",
      "Train on 35822 samples, validate on 6322 samples\n",
      "WARNING:tensorflow:From C:\\Users\\Tatsiana_Drabysheusk\\AppData\\Local\\Continuum\\miniconda3\\envs\\Project_New\\lib\\site-packages\\tensorflow\\python\\ops\\math_ops.py:3066: to_int32 (from tensorflow.python.ops.math_ops) is deprecated and will be removed in a future version.\n",
      "Instructions for updating:\n",
      "Use tf.cast instead.\n",
      "Epoch 1/30\n",
      "35822/35822 [==============================] - 74s 2ms/sample - loss: 0.8674 - acc: 0.7375 - val_loss: 0.8698 - val_acc: 0.8679\n",
      "Epoch 2/30\n",
      "35822/35822 [==============================] - 69s 2ms/sample - loss: 0.8913 - acc: 0.8339 - val_loss: 0.8277 - val_acc: 0.8822\n",
      "Epoch 3/30\n",
      "35822/35822 [==============================] - 68s 2ms/sample - loss: 0.8918 - acc: 0.8458 - val_loss: 0.8430 - val_acc: 0.8814\n",
      "Epoch 4/30\n",
      "35822/35822 [==============================] - 69s 2ms/sample - loss: 0.8937 - acc: 0.8528 - val_loss: 0.8379 - val_acc: 0.8861\n",
      "Epoch 5/30\n",
      "35822/35822 [==============================] - 68s 2ms/sample - loss: 0.9024 - acc: 0.8527 - val_loss: 0.8872 - val_acc: 0.8866\n"
     ]
    }
   ],
   "source": [
    "batch_size = 50\n",
    "epochs = 30\n",
    "\n",
    "earlystopping_callback = EarlyStopping(monitor='val_loss', patience=3)\n",
    "\n",
    "log_dir = \"logs/fit/\" + datetime.datetime.now().strftime(\"%Y%m%d-%H%M%S\")\n",
    "tensorboard_callback = TensorBoard(log_dir=log_dir, histogram_freq=1)\n",
    "\n",
    "K.clear_session()\n",
    "\n",
    "# Create the model\n",
    "model = Sequential()\n",
    "model.add(Dense(64, input_shape=(MAX_FEATURES,), activation='relu', kernel_regularizer=regularizers.l2(0.01)))\n",
    "model.add(Dropout(0.5))\n",
    "model.add(Dense(64, activation='relu',  kernel_regularizer=regularizers.l2(0.01)))\n",
    "model.add(Dropout(0.5))\n",
    "model.add(Dense(1, activation='sigmoid'))\n",
    "\n",
    "    \n",
    "model.compile(loss='binary_crossentropy',\n",
    "                  optimizer='adam',\n",
    "                  metrics=['accuracy'])\n",
    "\n",
    "\n",
    "history = model.fit(X_train_features, y_train,\n",
    "                    batch_size=batch_size,\n",
    "                    epochs=epochs,\n",
    "                    verbose=1,\n",
    "                    callbacks=[earlystopping_callback, tensorboard_callback],\n",
    "                    validation_data=(X_valid_features, y_valid),\n",
    "                   shuffle=True,)\n"
   ]
  },
  {
   "cell_type": "code",
   "execution_count": null,
   "metadata": {},
   "outputs": [],
   "source": []
  },
  {
   "cell_type": "code",
   "execution_count": null,
   "metadata": {},
   "outputs": [],
   "source": []
  },
  {
   "cell_type": "code",
   "execution_count": 14,
   "metadata": {},
   "outputs": [
    {
     "data": {
      "image/png": "[encoded data removed]",
      "text/plain": [
       "<Figure size 432x288 with 1 Axes>"
      ]
     },
     "metadata": {
      "needs_background": "light"
     },
     "output_type": "display_data"
    },
    {
     "data": {
      "image/png": "[encoded data removed]",
      "text/plain": [
       "<Figure size 432x288 with 1 Axes>"
      ]
     },
     "metadata": {
      "needs_background": "light"
     },
     "output_type": "display_data"
    }
   ],
   "source": [
    "plt.plot(history.history['acc'])\n",
    "plt.plot(history.history['val_acc'])\n",
    "plt.title('Model accuracy')\n",
    "plt.ylabel('Accuracy')\n",
    "plt.xlabel('Epoch')\n",
    "plt.legend(['Train', 'Val'], loc='upper left')\n",
    "plt.show()\n",
    "\n",
    "# Plot training & validation loss values\n",
    "plt.plot(history.history['loss'])\n",
    "plt.plot(history.history['val_loss'])\n",
    "plt.title('Model loss')\n",
    "plt.ylabel('Loss')\n",
    "plt.xlabel('Epoch')\n",
    "plt.legend(['Train', 'Val'], loc='upper left')\n",
    "plt.show()"
   ]
  },
  {
   "cell_type": "raw",
   "metadata": {},
   "source": []
  },
  {
   "cell_type": "code",
   "execution_count": null,
   "metadata": {},
   "outputs": [],
   "source": []
  },
  {
   "cell_type": "markdown",
   "metadata": {},
   "source": [
    "#### Tuning hyperparameters for model with *Random Search*"
   ]
  },
  {
   "cell_type": "code",
   "execution_count": 39,
   "metadata": {},
   "outputs": [
    {
     "name": "stderr",
     "output_type": "stream",
     "text": [
      "C:\\Users\\Tatsiana_Drabysheusk\\AppData\\Local\\Continuum\\miniconda3\\envs\\Project_New\\lib\\site-packages\\sklearn\\model_selection\\_split.py:2053: FutureWarning: You should specify a value for 'cv' instead of relying on the default value. The default value will change from 3 to 5 in version 0.22.\n",
      "  warnings.warn(CV_WARNING, FutureWarning)\n",
      "[Parallel(n_jobs=-1)]: Using backend LokyBackend with 8 concurrent workers.\n"
     ]
    },
    {
     "name": "stdout",
     "output_type": "stream",
     "text": [
      "Fitting 3 folds for each of 16 candidates, totalling 48 fits\n"
     ]
    },
    {
     "name": "stderr",
     "output_type": "stream",
     "text": [
      "[Parallel(n_jobs=-1)]: Done   9 tasks      | elapsed:  9.9min\n",
      "[Parallel(n_jobs=-1)]: Done  46 out of  48 | elapsed: 38.9min remaining:  1.7min\n",
      "[Parallel(n_jobs=-1)]: Done  48 out of  48 | elapsed: 39.5min finished\n"
     ]
    },
    {
     "name": "stdout",
     "output_type": "stream",
     "text": [
      "42144/42144 [==============================] - 28s 674us/sample - loss: 0.2921 - acc: 0.8952\n"
     ]
    },
    {
     "data": {
      "text/plain": [
       "RandomizedSearchCV(cv='warn', error_score='raise-deprecating',\n",
       "          estimator=Pipeline(memory=None,\n",
       "     steps=[('tfidf', TfidfVectorizer(analyzer='word', binary=False, decode_error='strict',\n",
       "        dtype=<class 'numpy.float64'>, encoding='utf-8', input='content',\n",
       "        lowercase=True, max_df=1.0, max_features=50000, min_df=1,\n",
       "        ngram_range=(1, 2), norm='l2',\n",
       "        preprocessor=<function pre...'kc', <tensorflow.python.keras.wrappers.scikit_learn.KerasClassifier object at 0x00000227B227BA48>)]),\n",
       "          fit_params=None, iid='warn', n_iter=16, n_jobs=-1,\n",
       "          param_distributions={'kc__dense_nparams': [8, 16, 32, 64, 256], 'kc__dropout': [0.5, 0.4, 0.2, 0.1, 0]},\n",
       "          pre_dispatch='2*n_jobs', random_state=None, refit=True,\n",
       "          return_train_score='warn', scoring=None, verbose=4)"
      ]
     },
     "execution_count": 39,
     "metadata": {},
     "output_type": "execute_result"
    }
   ],
   "source": [
    "X_rs = data.review\n",
    "y_rs = data.sentiment\n",
    "X_train_rs, X_test_rs, y_train_rs, y_test_rs = train_test_split(X_rs, \n",
    "                                                    y_rs,\n",
    "                                                    test_size=TEST_SIZE, \n",
    "                                                    random_state=RANDOM_STATE, \n",
    "                                                    stratify = y_rs)\n",
    "\n",
    "# Create the model\n",
    "def create_model(dropout=0.1,  dense_nparams=256, optimizer='adam',\n",
    "                 kernel_initializer='uniform'):\n",
    "    model = Sequential()\n",
    "    model.add(Dense(dense_nparams, input_shape=(MAX_FEATURES,), activation='relu'))\n",
    "    model.add(Dropout(dropout))\n",
    "    model.add(Dense(dense_nparams, activation='relu'))\n",
    "    model.add(Dropout(dropout))\n",
    "    model.add(Dense(1, activation='sigmoid'))\n",
    "    \n",
    "    model.compile(loss='binary_crossentropy',\n",
    "                  optimizer=optimizer,\n",
    "                  metrics=['accuracy'])\n",
    "    \n",
    "    return model\n",
    "\n",
    "model = KerasClassifier(build_fn=create_model, verbose=1)\n",
    "mlp_estimator = Pipeline([(\"tfidf\", TfidfVectorizer(ngram_range=(1,2), \n",
    "                                                    preprocessor=preprocessing.preprocessing_text, \n",
    "                                                    max_features=MAX_FEATURES)),  \n",
    "                       (\"kc\", model)])\n",
    "\n",
    "params_grid = {\n",
    "    'kc__dense_nparams': [8, 16, 32, 64, 256],\n",
    "    'kc__dropout': [0.5, 0.4, 0.2, 0.1, 0]\n",
    "}\n",
    "\n",
    "#search\n",
    "n_iter_search = 16 # Number of parameter settings that are sampled.\n",
    "random_search = RandomizedSearchCV(estimator=mlp_estimator, \n",
    "                                   param_distributions=params_grid,\n",
    "                                   n_iter=n_iter_search,\n",
    "                                   n_jobs=-1,  \n",
    "                                   verbose=4)\n",
    "random_search.fit(X_train_rs, y_train_rs)\n"
   ]
  },
  {
   "cell_type": "code",
   "execution_count": 40,
   "metadata": {},
   "outputs": [
    {
     "data": {
      "text/plain": [
       "{'verbose': 1,\n",
       " 'dropout': 0,\n",
       " 'dense_nparams': 8,\n",
       " 'build_fn': <function __main__.create_model(dropout=0.1, dense_nparams=256, optimizer='adam', kernel_initializer='uniform')>}"
      ]
     },
     "execution_count": 40,
     "metadata": {},
     "output_type": "execute_result"
    }
   ],
   "source": [
    "random_search.best_estimator_.steps[1][1].get_params()"
   ]
  },
  {
   "cell_type": "code",
   "execution_count": 41,
   "metadata": {},
   "outputs": [
    {
     "data": {
      "text/plain": [
       "{'name': 'sequential_9',\n",
       " 'layers': [{'class_name': 'Dense',\n",
       "   'config': {'name': 'dense_27',\n",
       "    'trainable': True,\n",
       "    'batch_input_shape': (None, 50000),\n",
       "    'dtype': 'float32',\n",
       "    'units': 8,\n",
       "    'activation': 'relu',\n",
       "    'use_bias': True,\n",
       "    'kernel_initializer': {'class_name': 'GlorotUniform',\n",
       "     'config': {'seed': None, 'dtype': 'float32'}},\n",
       "    'bias_initializer': {'class_name': 'Zeros',\n",
       "     'config': {'dtype': 'float32'}},\n",
       "    'kernel_regularizer': None,\n",
       "    'bias_regularizer': None,\n",
       "    'activity_regularizer': None,\n",
       "    'kernel_constraint': None,\n",
       "    'bias_constraint': None}},\n",
       "  {'class_name': 'Dropout',\n",
       "   'config': {'name': 'dropout_16',\n",
       "    'trainable': True,\n",
       "    'dtype': 'float32',\n",
       "    'rate': 0,\n",
       "    'noise_shape': None,\n",
       "    'seed': None}},\n",
       "  {'class_name': 'Dense',\n",
       "   'config': {'name': 'dense_28',\n",
       "    'trainable': True,\n",
       "    'dtype': 'float32',\n",
       "    'units': 8,\n",
       "    'activation': 'relu',\n",
       "    'use_bias': True,\n",
       "    'kernel_initializer': {'class_name': 'GlorotUniform',\n",
       "     'config': {'seed': None, 'dtype': 'float32'}},\n",
       "    'bias_initializer': {'class_name': 'Zeros',\n",
       "     'config': {'dtype': 'float32'}},\n",
       "    'kernel_regularizer': None,\n",
       "    'bias_regularizer': None,\n",
       "    'activity_regularizer': None,\n",
       "    'kernel_constraint': None,\n",
       "    'bias_constraint': None}},\n",
       "  {'class_name': 'Dropout',\n",
       "   'config': {'name': 'dropout_17',\n",
       "    'trainable': True,\n",
       "    'dtype': 'float32',\n",
       "    'rate': 0,\n",
       "    'noise_shape': None,\n",
       "    'seed': None}},\n",
       "  {'class_name': 'Dense',\n",
       "   'config': {'name': 'dense_29',\n",
       "    'trainable': True,\n",
       "    'dtype': 'float32',\n",
       "    'units': 1,\n",
       "    'activation': 'sigmoid',\n",
       "    'use_bias': True,\n",
       "    'kernel_initializer': {'class_name': 'GlorotUniform',\n",
       "     'config': {'seed': None, 'dtype': 'float32'}},\n",
       "    'bias_initializer': {'class_name': 'Zeros',\n",
       "     'config': {'dtype': 'float32'}},\n",
       "    'kernel_regularizer': None,\n",
       "    'bias_regularizer': None,\n",
       "    'activity_regularizer': None,\n",
       "    'kernel_constraint': None,\n",
       "    'bias_constraint': None}}]}"
      ]
     },
     "execution_count": 41,
     "metadata": {},
     "output_type": "execute_result"
    }
   ],
   "source": [
    "random_search.best_estimator_.steps[1][1].model.get_config()"
   ]
  },
  {
   "cell_type": "code",
   "execution_count": null,
   "metadata": {},
   "outputs": [],
   "source": []
  },
  {
   "cell_type": "markdown",
   "metadata": {},
   "source": [
    "#### Apply the best model from *Random Search*"
   ]
  },
  {
   "cell_type": "code",
   "execution_count": 43,
   "metadata": {},
   "outputs": [
    {
     "name": "stdout",
     "output_type": "stream",
     "text": [
      "_________________________________________________________________\n",
      "Layer (type)                 Output Shape              Param #   \n",
      "=================================================================\n",
      "dense_27 (Dense)             (None, 8)                 400008    \n",
      "_________________________________________________________________\n",
      "dropout_16 (Dropout)         (None, 8)                 0         \n",
      "_________________________________________________________________\n",
      "dense_28 (Dense)             (None, 8)                 72        \n",
      "_________________________________________________________________\n",
      "dropout_17 (Dropout)         (None, 8)                 0         \n",
      "_________________________________________________________________\n",
      "dense_29 (Dense)             (None, 1)                 9         \n",
      "=================================================================\n",
      "Total params: 400,089\n",
      "Trainable params: 400,089\n",
      "Non-trainable params: 0\n",
      "_________________________________________________________________\n",
      "Train on 35822 samples, validate on 6322 samples\n",
      "Epoch 1/30\n",
      "35822/35822 [==============================] - 43s 1ms/sample - loss: 0.3197 - acc: 0.8591 - val_loss: 0.2252 - val_acc: 0.9070\n",
      "Epoch 2/30\n",
      "35822/35822 [==============================] - 27s 741us/sample - loss: 0.0979 - acc: 0.9698 - val_loss: 0.2505 - val_acc: 0.9054\n",
      "Epoch 3/30\n",
      "35822/35822 [==============================] - 27s 749us/sample - loss: 0.0266 - acc: 0.9954 - val_loss: 0.3126 - val_acc: 0.9007\n",
      "Epoch 4/30\n",
      "35822/35822 [==============================] - 27s 742us/sample - loss: 0.0057 - acc: 0.9992 - val_loss: 0.3524 - val_acc: 0.9029\n",
      "Epoch 5/30\n",
      "35822/35822 [==============================] - 27s 746us/sample - loss: 0.0015 - acc: 0.9997 - val_loss: 0.3952 - val_acc: 0.9022\n",
      "Epoch 6/30\n",
      "35822/35822 [==============================] - 27s 751us/sample - loss: 5.6116e-04 - acc: 0.9999 - val_loss: 0.4331 - val_acc: 0.9022\n",
      "Epoch 7/30\n",
      "35822/35822 [==============================] - 27s 767us/sample - loss: 3.2273e-04 - acc: 1.0000 - val_loss: 0.4599 - val_acc: 0.9032\n",
      "Epoch 8/30\n",
      "35822/35822 [==============================] - 28s 774us/sample - loss: 1.0021e-04 - acc: 1.0000 - val_loss: 0.4881 - val_acc: 0.9027\n",
      "Epoch 9/30\n",
      "35822/35822 [==============================] - 28s 773us/sample - loss: 5.1547e-05 - acc: 1.0000 - val_loss: 0.5194 - val_acc: 0.9029\n",
      "Epoch 10/30\n",
      "35822/35822 [==============================] - 29s 806us/sample - loss: 3.0716e-05 - acc: 1.0000 - val_loss: 0.5451 - val_acc: 0.9040\n",
      "Epoch 11/30\n",
      "35822/35822 [==============================] - 29s 820us/sample - loss: 1.8498e-05 - acc: 1.0000 - val_loss: 0.5722 - val_acc: 0.9032\n"
     ]
    }
   ],
   "source": [
    "model_ = random_search.best_estimator_.steps[1][1].model\n",
    "model_.compile(loss='binary_crossentropy',\n",
    "                  optimizer='adam',\n",
    "                  metrics=['accuracy'])\n",
    "model_.summary()\n",
    "\n",
    "earlystopping_callback = EarlyStopping(monitor='val_loss', patience=10)\n",
    "\n",
    "\n",
    "history_ = model_.fit(X_train_features, y_train,\n",
    "                    batch_size=batch_size,\n",
    "                    epochs=epochs,\n",
    "                    callbacks=[earlystopping_callback],\n",
    "                    verbose=1,\n",
    "                    validation_data=(X_valid_features, y_valid),\n",
    "                   shuffle=True)"
   ]
  },
  {
   "cell_type": "code",
   "execution_count": 44,
   "metadata": {},
   "outputs": [
    {
     "name": "stdout",
     "output_type": "stream",
     "text": [
      "F1 score for test set: \n",
      "0.8959785522788204\n",
      "F1 score for validation set: \n",
      "0.9038944723618091\n"
     ]
    }
   ],
   "source": [
    "print('F1 score for test set: ')\n",
    "print(f1_score(model_.predict_classes(X_test_features), y_test))\n",
    "print('F1 score for validation set: ' )\n",
    "print(f1_score(model_.predict_classes(X_valid_features), y_valid))"
   ]
  },
  {
   "cell_type": "code",
   "execution_count": null,
   "metadata": {},
   "outputs": [],
   "source": []
  },
  {
   "cell_type": "code",
   "execution_count": null,
   "metadata": {},
   "outputs": [],
   "source": []
  },
  {
   "cell_type": "code",
   "execution_count": 12,
   "metadata": {},
   "outputs": [],
   "source": [
    "#function for f1 metric\n",
    "def get_f1(y_true, y_pred): \n",
    "    true_positives = K.sum(K.round(K.clip(y_true * y_pred, 0, 1)))\n",
    "    possible_positives = K.sum(K.round(K.clip(y_true, 0, 1)))\n",
    "    predicted_positives = K.sum(K.round(K.clip(y_pred, 0, 1)))\n",
    "    precision = true_positives / (predicted_positives + K.epsilon())\n",
    "    recall = true_positives / (possible_positives + K.epsilon())\n",
    "    f1_val = 2*(precision*recall)/(precision+recall+K.epsilon())\n",
    "    return f1_val"
   ]
  },
  {
   "cell_type": "code",
   "execution_count": null,
   "metadata": {},
   "outputs": [],
   "source": []
  },
  {
   "cell_type": "markdown",
   "metadata": {},
   "source": [
    "#### Apply  other model "
   ]
  },
  {
   "cell_type": "markdown",
   "metadata": {},
   "source": [
    "The result this step presents in *tensorboard.ipynb* and folder *logs/mlp/fit*"
   ]
  },
  {
   "cell_type": "code",
   "execution_count": 46,
   "metadata": {},
   "outputs": [
    {
     "name": "stdout",
     "output_type": "stream",
     "text": [
      "Train on 35822 samples, validate on 6322 samples\n",
      "Epoch 1/30\n",
      "35822/35822 [==============================] - 44s 1ms/sample - loss: 0.3442 - acc: 0.8568 - get_f1: 0.8522 - val_loss: 0.2041 - val_acc: 0.9195 - val_get_f1: 0.9167\n",
      "Epoch 2/30\n",
      "35822/35822 [==============================] - 42s 1ms/sample - loss: 0.1748 - acc: 0.9365 - get_f1: 0.9350 - val_loss: 0.2078 - val_acc: 0.9217 - val_get_f1: 0.9203\n",
      "Epoch 3/30\n",
      "35822/35822 [==============================] - 41s 1ms/sample - loss: 0.1221 - acc: 0.9554 - get_f1: 0.9530 - val_loss: 0.2214 - val_acc: 0.9214 - val_get_f1: 0.9204\n",
      "Epoch 4/30\n",
      "35822/35822 [==============================] - 41s 1ms/sample - loss: 0.0894 - acc: 0.9670 - get_f1: 0.9663 - val_loss: 0.2492 - val_acc: 0.9211 - val_get_f1: 0.9188\n",
      "Epoch 5/30\n",
      "35822/35822 [==============================] - 41s 1ms/sample - loss: 0.0710 - acc: 0.9737 - get_f1: 0.9720 - val_loss: 0.2616 - val_acc: 0.9181 - val_get_f1: 0.9165\n",
      "Epoch 6/30\n",
      "35822/35822 [==============================] - 41s 1ms/sample - loss: 0.0583 - acc: 0.9780 - get_f1: 0.9765 - val_loss: 0.3056 - val_acc: 0.9157 - val_get_f1: 0.9150\n",
      "Epoch 7/30\n",
      "35822/35822 [==============================] - 40s 1ms/sample - loss: 0.0508 - acc: 0.9809 - get_f1: 0.9804 - val_loss: 0.3271 - val_acc: 0.9124 - val_get_f1: 0.9117\n",
      "Epoch 8/30\n",
      "35822/35822 [==============================] - 40s 1ms/sample - loss: 0.0431 - acc: 0.9834 - get_f1: 0.9828 - val_loss: 0.3406 - val_acc: 0.9140 - val_get_f1: 0.9096\n",
      "Epoch 9/30\n",
      "35822/35822 [==============================] - 42s 1ms/sample - loss: 0.0386 - acc: 0.9851 - get_f1: 0.9848 - val_loss: 0.3730 - val_acc: 0.9141 - val_get_f1: 0.9109\n",
      "Epoch 10/30\n",
      "35822/35822 [==============================] - 41s 1ms/sample - loss: 0.0371 - acc: 0.9846 - get_f1: 0.9843 - val_loss: 0.3747 - val_acc: 0.9152 - val_get_f1: 0.9135\n",
      "Epoch 11/30\n",
      "35822/35822 [==============================] - 42s 1ms/sample - loss: 0.0316 - acc: 0.9865 - get_f1: 0.9859 - val_loss: 0.4237 - val_acc: 0.9189 - val_get_f1: 0.9175\n"
     ]
    }
   ],
   "source": [
    "batch_size = 30\n",
    "epochs = 30\n",
    "\n",
    "\n",
    "log_dir = \"logs/fit/\" + 'Dense_32/64_Dropout_0.6'\n",
    "tensorboard_callback = tf.keras.callbacks.TensorBoard(log_dir=log_dir, histogram_freq=0)\n",
    "\n",
    "# Create the model\n",
    "model = Sequential()\n",
    "model.add(Dense(32, input_shape=(MAX_FEATURES,), activation='relu'))\n",
    "# model.add(BatchNormalization())\n",
    "model.add(Dropout(0.6))\n",
    "model.add(Dense(64, activation='relu'))\n",
    "# model.add(BatchNormalization())\n",
    "model.add(Dropout(0.6))\n",
    "model.add(Dense(1, activation='sigmoid'))\n",
    "    \n",
    "model.compile(loss='binary_crossentropy',\n",
    "                  optimizer='adam',\n",
    "                  metrics=['accuracy', get_f1])\n",
    "\n",
    "\n",
    "history = model.fit(X_train_features, y_train,\n",
    "                    batch_size=batch_size,\n",
    "                    epochs=epochs,\n",
    "                    callbacks=[earlystopping_callback, tensorboard_callback],\n",
    "                    verbose=1,\n",
    "                    validation_data=(X_valid_features, y_valid),\n",
    "                   shuffle=True,)"
   ]
  },
  {
   "cell_type": "code",
   "execution_count": 47,
   "metadata": {},
   "outputs": [
    {
     "name": "stdout",
     "output_type": "stream",
     "text": [
      "F1 score for test set: \n",
      "0.904608788853162\n",
      "F1 score for validation set: \n",
      "0.9194788887144876\n"
     ]
    }
   ],
   "source": [
    "print('F1 score for test set: ')\n",
    "print(f1_score(model.predict_classes(X_test_features), y_test))\n",
    "print('F1 score for validation set: ' )\n",
    "print(f1_score(model.predict_classes(X_valid_features), y_valid))"
   ]
  },
  {
   "cell_type": "code",
   "execution_count": 48,
   "metadata": {},
   "outputs": [
    {
     "name": "stdout",
     "output_type": "stream",
     "text": [
      "_________________________________________________________________\n",
      "Layer (type)                 Output Shape              Param #   \n",
      "=================================================================\n",
      "dense_30 (Dense)             (None, 32)                1600032   \n",
      "_________________________________________________________________\n",
      "dropout_18 (Dropout)         (None, 32)                0         \n",
      "_________________________________________________________________\n",
      "dense_31 (Dense)             (None, 64)                2112      \n",
      "_________________________________________________________________\n",
      "dropout_19 (Dropout)         (None, 64)                0         \n",
      "_________________________________________________________________\n",
      "dense_32 (Dense)             (None, 1)                 65        \n",
      "=================================================================\n",
      "Total params: 1,602,209\n",
      "Trainable params: 1,602,209\n",
      "Non-trainable params: 0\n",
      "_________________________________________________________________\n"
     ]
    }
   ],
   "source": [
    "model.summary()"
   ]
  },
  {
   "cell_type": "markdown",
   "metadata": {},
   "source": []
  },
  {
   "cell_type": "code",
   "execution_count": null,
   "metadata": {},
   "outputs": [],
   "source": []
  },
  {
   "cell_type": "markdown",
   "metadata": {},
   "source": [
    "### Choose the best model"
   ]
  },
  {
   "cell_type": "code",
   "execution_count": 13,
   "metadata": {},
   "outputs": [
    {
     "name": "stdout",
     "output_type": "stream",
     "text": [
      "Train on 35822 samples, validate on 6322 samples\n",
      "WARNING:tensorflow:From C:\\Users\\Tatsiana_Drabysheusk\\AppData\\Local\\Continuum\\miniconda3\\envs\\Project_New\\lib\\site-packages\\tensorflow\\python\\ops\\math_ops.py:3066: to_int32 (from tensorflow.python.ops.math_ops) is deprecated and will be removed in a future version.\n",
      "Instructions for updating:\n",
      "Use tf.cast instead.\n",
      "Epoch 1/30\n",
      "35820/35822 [============================>.] - ETA: 0s - loss: 0.3713 - acc: 0.8604 - get_f1: 0.8495\n",
      "Epoch 00001: val_loss improved from inf to 0.21509, saving model to model_mlp_best.hdf5\n",
      "35822/35822 [==============================] - 50s 1ms/sample - loss: 0.3713 - acc: 0.8604 - get_f1: 0.8496 - val_loss: 0.2151 - val_acc: 0.9228 - val_get_f1: 0.9212\n",
      "Epoch 2/30\n",
      "35820/35822 [============================>.] - ETA: 0s - loss: 0.1695 - acc: 0.9432 - get_f1: 0.9419\n",
      "Epoch 00002: val_loss improved from 0.21509 to 0.19244, saving model to model_mlp_best.hdf5\n",
      "35822/35822 [==============================] - 51s 1ms/sample - loss: 0.1695 - acc: 0.9432 - get_f1: 0.9420 - val_loss: 0.1924 - val_acc: 0.9242 - val_get_f1: 0.9228\n",
      "Epoch 3/30\n",
      "35790/35822 [============================>.] - ETA: 0s - loss: 0.1044 - acc: 0.9689 - get_f1: 0.9680\n",
      "Epoch 00003: val_loss did not improve from 0.19244\n",
      "35822/35822 [==============================] - 50s 1ms/sample - loss: 0.1045 - acc: 0.9689 - get_f1: 0.9671 - val_loss: 0.1993 - val_acc: 0.9249 - val_get_f1: 0.9231\n",
      "Epoch 4/30\n",
      "35820/35822 [============================>.] - ETA: 0s - loss: 0.0687 - acc: 0.9806 - get_f1: 0.9800\n",
      "Epoch 00004: val_loss did not improve from 0.19244\n",
      "35822/35822 [==============================] - 50s 1ms/sample - loss: 0.0687 - acc: 0.9806 - get_f1: 0.9791 - val_loss: 0.2165 - val_acc: 0.9219 - val_get_f1: 0.9207\n",
      "Epoch 5/30\n",
      "35790/35822 [============================>.] - ETA: 0s - loss: 0.0467 - acc: 0.9875 - get_f1: 0.9870\n",
      "Epoch 00005: val_loss did not improve from 0.19244\n",
      "35822/35822 [==============================] - 51s 1ms/sample - loss: 0.0467 - acc: 0.9874 - get_f1: 0.9870 - val_loss: 0.2380 - val_acc: 0.9228 - val_get_f1: 0.9214\n"
     ]
    }
   ],
   "source": [
    "batch_size = 30\n",
    "epochs = 30\n",
    "\n",
    "early_stop = EarlyStopping(monitor='val_loss', \n",
    "                           patience=3)\n",
    "cp_callback = ModelCheckpoint(filepath='model_mlp_best.hdf5',\n",
    "                              save_best_only=True,\n",
    "                              verbose=1)\n",
    "\n",
    "model_best = Sequential()\n",
    "model_best.add(Dense(32, input_shape=(MAX_FEATURES,), activation='relu'))\n",
    "model_best.add(Dropout(0.6))\n",
    "model_best.add(Dense(1, activation='sigmoid'))\n",
    "\n",
    "\n",
    "    \n",
    "model_best.compile(loss='binary_crossentropy',\n",
    "                  optimizer='adam',\n",
    "                  metrics=['accuracy', get_f1])\n",
    "\n",
    "\n",
    "history = model_best.fit(X_train_features, y_train,\n",
    "                    batch_size=batch_size,\n",
    "                    epochs=epochs,\n",
    "                    callbacks=[early_stop, cp_callback],\n",
    "                    verbose=1,\n",
    "                    validation_data=(X_valid_features, y_valid),\n",
    "                   shuffle=True,)\n"
   ]
  },
  {
   "cell_type": "code",
   "execution_count": 14,
   "metadata": {},
   "outputs": [
    {
     "name": "stdout",
     "output_type": "stream",
     "text": [
      "F1 score for test set: \n",
      "0.9109333333333334\n",
      "F1 score for validation set: \n",
      "0.923510971786834\n"
     ]
    }
   ],
   "source": [
    "print('F1 score for test set: ')\n",
    "print(f1_score(model_best.predict_classes(X_test_features), y_test))\n",
    "print('F1 score for validation set: ' )\n",
    "print(f1_score(model_best.predict_classes(X_valid_features), y_valid))"
   ]
  },
  {
   "cell_type": "code",
   "execution_count": null,
   "metadata": {},
   "outputs": [],
   "source": []
  }
 ],
 "metadata": {
  "kernelspec": {
   "display_name": "Python 3",
   "language": "python",
   "name": "python3"
  },
  "language_info": {
   "codemirror_mode": {
    "name": "ipython",
    "version": 3
   },
   "file_extension": ".py",
   "mimetype": "text/x-python",
   "name": "python",
   "nbconvert_exporter": "python",
   "pygments_lexer": "ipython3",
   "version": "3.7.7"
  }
 },
 "nbformat": 4,
 "nbformat_minor": 4
}
