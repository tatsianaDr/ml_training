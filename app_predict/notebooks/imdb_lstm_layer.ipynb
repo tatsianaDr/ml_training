{
 "cells": [
  {
   "cell_type": "markdown",
   "metadata": {
    "colab_type": "text",
    "id": "tTr_XaO71XUc"
   },
   "source": [
    "## Explore simple RNN with keras"
   ]
  },
  {
   "cell_type": "markdown",
   "metadata": {
    "colab_type": "text",
    "id": "9NeazgUy1XUc"
   },
   "source": [
    "### Introduction\n",
    "This notebook will build a simple RNN model using keras to solve classification sentiment problem for movie reviews."
   ]
  },
  {
   "cell_type": "code",
   "execution_count": null,
   "metadata": {
    "_cell_guid": "b1076dfc-b9ad-4769-8c92-a6c4dae69d19",
    "_uuid": "8f2839f25d086af736a60e9eeb907d3b93b6e0e5",
    "colab": {},
    "colab_type": "code",
    "id": "nxPm-l0U1XUd"
   },
   "outputs": [],
   "source": [
    "import numpy as np # linear algebra\n",
    "import pandas as pd # data processing, CSV file I/O (e.g. pd.read_csv)\n",
    "import matplotlib.pyplot as plt"
   ]
  },
  {
   "cell_type": "code",
   "execution_count": null,
   "metadata": {
    "colab": {},
    "colab_type": "code",
    "id": "YGSZKPZA1XUg"
   },
   "outputs": [],
   "source": []
  },
  {
   "cell_type": "markdown",
   "metadata": {
    "colab_type": "text",
    "id": "eo9I5ogY1XUj"
   },
   "source": [
    "### Import libraries,  import custom scripts and define constants  "
   ]
  },
  {
   "cell_type": "code",
   "execution_count": null,
   "metadata": {
    "_cell_guid": "79c7e3d0-c299-4dcb-8224-4455121ee9b0",
    "_uuid": "d629ff2d2480ee46fbb7e2d37f6b5fab8052498a",
    "colab": {},
    "colab_type": "code",
    "id": "qy0nkj4o1XUk"
   },
   "outputs": [],
   "source": [
    "from tensorflow.keras.models import Sequential\n",
    "from tensorflow.keras.layers import Dense, Embedding, SpatialDropout1D, LSTM, Dropout, SpatialDropout2D, SpatialDropout3D\n",
    "from tensorflow.keras.utils import to_categorical\n",
    "from tensorflow.keras.callbacks import EarlyStopping, TensorBoard, ModelCheckpoint\n",
    "\n",
    "from tensorflow.keras.preprocessing.text import Tokenizer\n",
    "from tensorflow.keras.preprocessing.sequence import pad_sequences\n",
    "\n",
    "import tensorflow.keras.backend as K\n",
    "\n",
    "from sklearn.model_selection import train_test_split\n",
    "\n",
    "import re"
   ]
  },
  {
   "cell_type": "code",
   "execution_count": 1,
   "metadata": {
    "colab": {
     "base_uri": "https://localhost:8080/",
     "height": 125
    },
    "colab_type": "code",
    "id": "cprYr4g61bh8",
    "outputId": "28e7dbf7-e657-43de-8eaa-55bda1f09512"
   },
   "outputs": [
    {
     "name": "stdout",
     "output_type": "stream",
     "text": [
      "Go to this URL in a browser: https://accounts.google.com/o/oauth2/auth?client_id=947318989803-6bn6qk8qdgf4n4g3pfee6491hc0brc4i.apps.googleusercontent.com&redirect_uri=urn%3aietf%3awg%3aoauth%3a2.0%3aoob&response_type=code&scope=email%20https%3a%2f%2fwww.googleapis.com%2fauth%2fdocs.test%20https%3a%2f%2fwww.googleapis.com%2fauth%2fdrive%20https%3a%2f%2fwww.googleapis.com%2fauth%2fdrive.photos.readonly%20https%3a%2f%2fwww.googleapis.com%2fauth%2fpeopleapi.readonly\n",
      "\n",
      "Enter your authorization code:\n",
      "··········\n",
      "Mounted at /content/drive\n"
     ]
    }
   ],
   "source": [
    "from google.colab import drive\n",
    "drive.mount('/content/drive')"
   ]
  },
  {
   "cell_type": "code",
   "execution_count": null,
   "metadata": {
    "colab": {},
    "colab_type": "code",
    "id": "V8sCKvyk1XUm"
   },
   "outputs": [],
   "source": [
    "# import all our functions\n",
    "import os,sys\n",
    "sys.path.insert(0,'/content/drive/My Drive/Colab Notebooks/ml_training/app_predict/')\n",
    "from src import preprocessing"
   ]
  },
  {
   "cell_type": "code",
   "execution_count": null,
   "metadata": {
    "colab": {},
    "colab_type": "code",
    "id": "n7FOg1C21XUo"
   },
   "outputs": [],
   "source": [
    "#definition constants\n",
    "RANDOM_STATE = 11\n",
    "TEST_SIZE = 0.15\n"
   ]
  },
  {
   "cell_type": "markdown",
   "metadata": {
    "colab_type": "text",
    "id": "RjZu2qgn1XUr"
   },
   "source": [
    "####  Loading the data and applying the preprocessing"
   ]
  },
  {
   "cell_type": "code",
   "execution_count": 6,
   "metadata": {
    "colab": {
     "base_uri": "https://localhost:8080/",
     "height": 197
    },
    "colab_type": "code",
    "id": "FvrK1xUP1XUr",
    "outputId": "6edaea89-2808-4d05-b9dc-df1ac0cf4448"
   },
   "outputs": [
    {
     "data": {
      "text/html": [
       "<div>\n",
       "<style scoped>\n",
       "    .dataframe tbody tr th:only-of-type {\n",
       "        vertical-align: middle;\n",
       "    }\n",
       "\n",
       "    .dataframe tbody tr th {\n",
       "        vertical-align: top;\n",
       "    }\n",
       "\n",
       "    .dataframe thead th {\n",
       "        text-align: right;\n",
       "    }\n",
       "</style>\n",
       "<table border=\"1\" class=\"dataframe\">\n",
       "  <thead>\n",
       "    <tr style=\"text-align: right;\">\n",
       "      <th></th>\n",
       "      <th>review</th>\n",
       "      <th>sentiment</th>\n",
       "    </tr>\n",
       "  </thead>\n",
       "  <tbody>\n",
       "    <tr>\n",
       "      <th>0</th>\n",
       "      <td>one of the other reviewers has mentioned that ...</td>\n",
       "      <td>1</td>\n",
       "    </tr>\n",
       "    <tr>\n",
       "      <th>1</th>\n",
       "      <td>a wonderful little production.   the filming t...</td>\n",
       "      <td>1</td>\n",
       "    </tr>\n",
       "    <tr>\n",
       "      <th>2</th>\n",
       "      <td>i thought this was a wonderful way to spend ti...</td>\n",
       "      <td>1</td>\n",
       "    </tr>\n",
       "    <tr>\n",
       "      <th>3</th>\n",
       "      <td>basically there's a family where a little boy ...</td>\n",
       "      <td>0</td>\n",
       "    </tr>\n",
       "    <tr>\n",
       "      <th>4</th>\n",
       "      <td>petter mattei's \"love in the time of money\" is...</td>\n",
       "      <td>1</td>\n",
       "    </tr>\n",
       "  </tbody>\n",
       "</table>\n",
       "</div>"
      ],
      "text/plain": [
       "                                              review  sentiment\n",
       "0  one of the other reviewers has mentioned that ...          1\n",
       "1  a wonderful little production.   the filming t...          1\n",
       "2  i thought this was a wonderful way to spend ti...          1\n",
       "3  basically there's a family where a little boy ...          0\n",
       "4  petter mattei's \"love in the time of money\" is...          1"
      ]
     },
     "execution_count": 6,
     "metadata": {
      "tags": []
     },
     "output_type": "execute_result"
    }
   ],
   "source": [
    "# import & display data\n",
    "data = pd.read_csv('/content/drive/My Drive/Colab Notebooks/ml_training/data/IMDB_Dataset.csv')\n",
    "data['sentiment'] = data['sentiment'].replace({'positive' : 1, 'negative' : 0})\n",
    "data = data.drop_duplicates()\n",
    "data['review'] = data['review'].apply(lambda x: preprocessing.preprocessing_text(x))\n",
    "data.head()\n"
   ]
  },
  {
   "cell_type": "code",
   "execution_count": null,
   "metadata": {
    "colab": {},
    "colab_type": "code",
    "id": "KH8tJsgZ1XUu"
   },
   "outputs": [],
   "source": []
  },
  {
   "cell_type": "markdown",
   "metadata": {
    "colab_type": "text",
    "id": "vrCF0gFQ1XUx"
   },
   "source": [
    "#### Explore the parameters of reviews (their length)"
   ]
  },
  {
   "cell_type": "code",
   "execution_count": 7,
   "metadata": {
    "colab": {
     "base_uri": "https://localhost:8080/",
     "height": 34
    },
    "colab_type": "code",
    "id": "IwYUWCnC1XUy",
    "outputId": "529fa594-352a-4aa7-b536-fa75a9c949e9"
   },
   "outputs": [
    {
     "name": "stdout",
     "output_type": "stream",
     "text": [
      "Average word length of reviews in dataset is 230.\n"
     ]
    }
   ],
   "source": [
    "print('Average word length of reviews in dataset is {0:.0f}.'.format(np.mean(data['review'].apply(lambda x: len(x.split())))))"
   ]
  },
  {
   "cell_type": "code",
   "execution_count": 8,
   "metadata": {
    "colab": {
     "base_uri": "https://localhost:8080/",
     "height": 34
    },
    "colab_type": "code",
    "id": "ExRPXoi61XU0",
    "outputId": "3c0bdfad-fb0e-4e87-8dee-8285b611ee4a"
   },
   "outputs": [
    {
     "name": "stdout",
     "output_type": "stream",
     "text": [
      "Max word length  of reviews in dataset is 2479.\n"
     ]
    }
   ],
   "source": [
    "print('Max word length  of reviews in dataset is {0:.0f}.'.format(np.max(data['review'].apply(lambda x: len(x.split())))))"
   ]
  },
  {
   "cell_type": "code",
   "execution_count": 9,
   "metadata": {
    "colab": {
     "base_uri": "https://localhost:8080/",
     "height": 294
    },
    "colab_type": "code",
    "id": "O78041KZ1XU2",
    "outputId": "e8d24633-2f4d-40e3-cf1b-ed5bc2d47c11"
   },
   "outputs": [
    {
     "data": {
      "image/png": "[encoded data removed]",
      "text/plain": [
       "<Figure size 432x288 with 1 Axes>"
      ]
     },
     "metadata": {
      "needs_background": "light",
      "tags": []
     },
     "output_type": "display_data"
    }
   ],
   "source": [
    "plt.hist([len(s.split()) for s in data['review']], 10)\n",
    "plt.xlabel('Length of a sample')\n",
    "plt.ylabel('Number of samples')\n",
    "plt.title('Sample length distribution')\n",
    "plt.show()"
   ]
  },
  {
   "cell_type": "markdown",
   "metadata": {
    "colab_type": "text",
    "id": "k8Or_blE1XU4"
   },
   "source": [
    "We can see that most of the reviews are 500 words long or shorter. Let's try having sequence length equal to 500 for now."
   ]
  },
  {
   "cell_type": "code",
   "execution_count": null,
   "metadata": {
    "colab": {},
    "colab_type": "code",
    "id": "OWo6MT_01XU8"
   },
   "outputs": [],
   "source": []
  },
  {
   "cell_type": "markdown",
   "metadata": {
    "colab_type": "text",
    "id": "x_z50DsK1XU-"
   },
   "source": [
    "####  Split data for training, testing and validation sets"
   ]
  },
  {
   "cell_type": "code",
   "execution_count": null,
   "metadata": {
    "colab": {},
    "colab_type": "code",
    "id": "pU1VQcdl1XU-"
   },
   "outputs": [],
   "source": [
    "X = data.review\n",
    "y = data.sentiment\n",
    "X_train, X_test, y_train, y_test = train_test_split(X, \n",
    "                                                    y,\n",
    "                                                    test_size=TEST_SIZE, \n",
    "                                                    random_state=RANDOM_STATE, \n",
    "                                                    stratify = y)\n",
    "\n",
    "X_train, X_val, y_train, y_val = train_test_split(X_train, \n",
    "                                                    y_train,\n",
    "                                                    test_size=TEST_SIZE, \n",
    "                                                    random_state=RANDOM_STATE, \n",
    "                                                    stratify = y_train)"
   ]
  },
  {
   "cell_type": "code",
   "execution_count": null,
   "metadata": {
    "colab": {},
    "colab_type": "code",
    "id": "BK6Hqlzc1XVA"
   },
   "outputs": [],
   "source": []
  },
  {
   "cell_type": "markdown",
   "metadata": {
    "colab_type": "text",
    "id": "icXIJ5KD1XVC"
   },
   "source": [
    "### Preprocessing Data"
   ]
  },
  {
   "cell_type": "code",
   "execution_count": null,
   "metadata": {
    "colab": {},
    "colab_type": "code",
    "id": "2DdRapvu1XVD"
   },
   "outputs": [],
   "source": [
    "MAX_FEATURES = 50000\n",
    "MAX_LEN = 500\n",
    "\n",
    "\n",
    "tokenizer = Tokenizer(num_words=MAX_FEATURES, oov_token='unk')\n",
    "\n",
    "# only fit on train\n",
    "tokenizer.fit_on_texts(X_train)\n",
    "\n",
    "X_train_seq = tokenizer.texts_to_sequences(X_train)\n",
    "X_val_seq = tokenizer.texts_to_sequences(X_val)\n",
    "X_test_seq = tokenizer.texts_to_sequences(X_test)\n",
    "\n",
    "\n",
    "X_train_pad = pad_sequences(X_train_seq, maxlen=MAX_LEN)\n",
    "X_val_pad = pad_sequences(X_val_seq, maxlen=MAX_LEN)\n",
    "X_test_pad = pad_sequences(X_test_seq, maxlen=MAX_LEN)"
   ]
  },
  {
   "cell_type": "code",
   "execution_count": null,
   "metadata": {
    "colab": {},
    "colab_type": "code",
    "id": "Zkhakgsa1XVF"
   },
   "outputs": [],
   "source": []
  },
  {
   "cell_type": "markdown",
   "metadata": {
    "colab_type": "text",
    "id": "NNn42e2j1XVH"
   },
   "source": [
    "### Create and train the model "
   ]
  },
  {
   "cell_type": "code",
   "execution_count": null,
   "metadata": {
    "colab": {},
    "colab_type": "code",
    "id": "R-dgzmRi1XVH"
   },
   "outputs": [],
   "source": [
    "#function for f1 metric\n",
    "def get_f1(y_true, y_pred): \n",
    "    true_positives = K.sum(K.round(K.clip(y_true * y_pred, 0, 1)))\n",
    "    possible_positives = K.sum(K.round(K.clip(y_true, 0, 1)))\n",
    "    predicted_positives = K.sum(K.round(K.clip(y_pred, 0, 1)))\n",
    "    precision = true_positives / (predicted_positives + K.epsilon())\n",
    "    recall = true_positives / (possible_positives + K.epsilon())\n",
    "    f1_val = 2*(precision*recall)/(precision+recall+K.epsilon())\n",
    "    return f1_val"
   ]
  },
  {
   "cell_type": "code",
   "execution_count": 16,
   "metadata": {
    "colab": {
     "base_uri": "https://localhost:8080/",
     "height": 265
    },
    "colab_type": "code",
    "id": "qBgQbKMr1XVK",
    "outputId": "3d4a273e-222b-43b5-d8e7-c5276ea43efa"
   },
   "outputs": [
    {
     "name": "stdout",
     "output_type": "stream",
     "text": [
      "Model: \"sequential\"\n",
      "_________________________________________________________________\n",
      "Layer (type)                 Output Shape              Param #   \n",
      "=================================================================\n",
      "embedding (Embedding)        (None, None, 300)         15000000  \n",
      "_________________________________________________________________\n",
      "lstm (LSTM)                  (None, 128)               219648    \n",
      "_________________________________________________________________\n",
      "dense (Dense)                (None, 1)                 129       \n",
      "=================================================================\n",
      "Total params: 15,219,777\n",
      "Trainable params: 15,219,777\n",
      "Non-trainable params: 0\n",
      "_________________________________________________________________\n"
     ]
    }
   ],
   "source": [
    "# Stricture0\n",
    "\n",
    "EMBED_DIM = 300\n",
    "LSTM_OUT = 128\n",
    "\n",
    "#callbacks\n",
    "early_stop = EarlyStopping(monitor='val_loss', \n",
    "                           patience=5)\n",
    "cp_callback = ModelCheckpoint(filepath=\"model_lstm_0_{epoch:02d}-{val_get_f1:.2f}.hdf5\",\n",
    "                              save_best_only=True,\n",
    "                              verbose=1)\n",
    "\n",
    "K.clear_session()\n",
    "\n",
    "model = Sequential()\n",
    "model.add(Embedding(MAX_FEATURES, EMBED_DIM))\n",
    "model.add(LSTM(LSTM_OUT))\n",
    "model.add(Dense(1,activation='sigmoid'))\n",
    "model.compile(loss = 'binary_crossentropy', optimizer='adam',metrics = [get_f1])\n",
    "\n",
    "model.summary()\n"
   ]
  },
  {
   "cell_type": "code",
   "execution_count": null,
   "metadata": {
    "colab": {},
    "colab_type": "code",
    "id": "r-rgtyBP1XVM"
   },
   "outputs": [],
   "source": []
  },
  {
   "cell_type": "code",
   "execution_count": 17,
   "metadata": {
    "colab": {
     "base_uri": "https://localhost:8080/",
     "height": 514
    },
    "colab_type": "code",
    "id": "ce3WkpbO1XVO",
    "outputId": "31b07595-864e-4829-e649-cdbd6aa3948b"
   },
   "outputs": [
    {
     "name": "stdout",
     "output_type": "stream",
     "text": [
      "Epoch 1/30\n",
      "\n",
      "Epoch 00001: val_loss improved from inf to 0.28140, saving model to model_lstm_0_01-0.89.hdf5\n",
      "70/70 - 584s - loss: 0.4702 - get_f1: 0.7546 - val_loss: 0.2814 - val_get_f1: 0.8904\n",
      "Epoch 2/30\n",
      "\n",
      "Epoch 00002: val_loss improved from 0.28140 to 0.26539, saving model to model_lstm_0_02-0.90.hdf5\n",
      "70/70 - 581s - loss: 0.2025 - get_f1: 0.9260 - val_loss: 0.2654 - val_get_f1: 0.8959\n",
      "Epoch 3/30\n",
      "\n",
      "Epoch 00003: val_loss did not improve from 0.26539\n",
      "70/70 - 581s - loss: 0.1178 - get_f1: 0.9603 - val_loss: 0.2955 - val_get_f1: 0.8895\n",
      "Epoch 4/30\n",
      "\n",
      "Epoch 00004: val_loss did not improve from 0.26539\n",
      "70/70 - 577s - loss: 0.0634 - get_f1: 0.9808 - val_loss: 0.3638 - val_get_f1: 0.8765\n",
      "Epoch 5/30\n",
      "\n",
      "Epoch 00005: val_loss did not improve from 0.26539\n",
      "70/70 - 581s - loss: 0.0541 - get_f1: 0.9828 - val_loss: 0.4242 - val_get_f1: 0.8695\n",
      "Epoch 6/30\n",
      "\n",
      "Epoch 00006: val_loss did not improve from 0.26539\n",
      "70/70 - 577s - loss: 0.0550 - get_f1: 0.9815 - val_loss: 0.4522 - val_get_f1: 0.8360\n",
      "Epoch 7/30\n",
      "\n",
      "Epoch 00007: val_loss did not improve from 0.26539\n",
      "70/70 - 579s - loss: 0.0721 - get_f1: 0.9762 - val_loss: 0.4239 - val_get_f1: 0.8706\n"
     ]
    }
   ],
   "source": [
    "batch_size = 512\n",
    "epochs = 30\n",
    "\n",
    "history = model.fit(X_train_pad, y_train,\n",
    "                    batch_size=batch_size,                  \n",
    "                    epochs=epochs,                   \n",
    "                    verbose=2,                   \n",
    "                    callbacks=[early_stop, cp_callback],                    \n",
    "                    validation_data=(X_val_pad, y_val),                     \n",
    "                    shuffle=True)"
   ]
  },
  {
   "cell_type": "code",
   "execution_count": 18,
   "metadata": {
    "colab": {
     "base_uri": "https://localhost:8080/",
     "height": 573
    },
    "colab_type": "code",
    "id": "8mlqUuSq1XVQ",
    "outputId": "55bd0513-41a8-46fc-de59-ee59e7a7e45b"
   },
   "outputs": [
    {
     "data": {
      "image/png": "[encoded data removed]",
      "text/plain": [
       "<Figure size 432x288 with 1 Axes>"
      ]
     },
     "metadata": {
      "needs_background": "light",
      "tags": []
     },
     "output_type": "display_data"
    },
    {
     "data": {
      "image/png": "[encoded data removed]",
      "text/plain": [
       "<Figure size 432x288 with 1 Axes>"
      ]
     },
     "metadata": {
      "needs_background": "light",
      "tags": []
     },
     "output_type": "display_data"
    }
   ],
   "source": [
    "plt.plot(history.history['get_f1'])\n",
    "plt.plot(history.history['val_get_f1'])\n",
    "plt.title('Model accuracy')\n",
    "plt.ylabel('Accuracy')\n",
    "plt.xlabel('Epoch')\n",
    "plt.legend(['Train', 'Val'], loc='upper left')\n",
    "plt.show()\n",
    "\n",
    "# Plot training & validation loss values\n",
    "plt.plot(history.history['loss'])\n",
    "plt.plot(history.history['val_loss'])\n",
    "plt.title('Model loss')\n",
    "plt.ylabel('Loss')\n",
    "plt.xlabel('Epoch')\n",
    "plt.legend(['Train', 'Val'], loc='upper left')\n",
    "plt.show()"
   ]
  },
  {
   "cell_type": "code",
   "execution_count": null,
   "metadata": {
    "colab": {},
    "colab_type": "code",
    "id": "Kg63p9_R1XVS",
    "outputId": "9718f94d-2db6-463a-a7d7-99b1ac50dc78"
   },
   "outputs": [
    {
     "name": "stdout",
     "output_type": "stream",
     "text": [
      "Model: \"sequential\"\n",
      "_________________________________________________________________\n",
      "Layer (type)                 Output Shape              Param #   \n",
      "=================================================================\n",
      "embedding (Embedding)        (None, None, 300)         15000000  \n",
      "_________________________________________________________________\n",
      "spatial_dropout1d (SpatialDr (None, None, 300)         0         \n",
      "_________________________________________________________________\n",
      "lstm (LSTM)                  (None, 128)               219648    \n",
      "_________________________________________________________________\n",
      "dense (Dense)                (None, 1)                 129       \n",
      "=================================================================\n",
      "Total params: 15,219,777\n",
      "Trainable params: 15,219,777\n",
      "Non-trainable params: 0\n",
      "_________________________________________________________________\n",
      "Train on 35822 samples, validate on 6322 samples\n",
      "Epoch 1/30\n",
      "\n",
      "Epoch 00001: val_loss improved from inf to 0.33028, saving model to Structure1_01-0.87.hdf5\n",
      "35822/35822 - 88s - loss: 0.5146 - accuracy: 0.7473 - get_f1: 0.7517 - val_loss: 0.3303 - val_accuracy: 0.8622 - val_get_f1: 0.8665\n",
      "Epoch 2/30\n",
      "\n",
      "Epoch 00002: val_loss improved from 0.33028 to 0.30142, saving model to Structure1_02-0.87.hdf5\n",
      "35822/35822 - 87s - loss: 0.2869 - accuracy: 0.8842 - get_f1: 0.8850 - val_loss: 0.3014 - val_accuracy: 0.8798 - val_get_f1: 0.8737\n",
      "Epoch 3/30\n",
      "\n",
      "Epoch 00003: val_loss did not improve from 0.30142\n",
      "35822/35822 - 86s - loss: 0.2186 - accuracy: 0.9183 - get_f1: 0.9187 - val_loss: 0.3050 - val_accuracy: 0.8820 - val_get_f1: 0.8840\n",
      "Epoch 4/30\n",
      "\n",
      "Epoch 00004: val_loss did not improve from 0.30142\n",
      "35822/35822 - 85s - loss: 0.1771 - accuracy: 0.9361 - get_f1: 0.9364 - val_loss: 0.3462 - val_accuracy: 0.8614 - val_get_f1: 0.8618\n",
      "Epoch 5/30\n",
      "\n",
      "Epoch 00005: val_loss did not improve from 0.30142\n",
      "35822/35822 - 86s - loss: 0.1452 - accuracy: 0.9495 - get_f1: 0.9498 - val_loss: 0.3554 - val_accuracy: 0.8665 - val_get_f1: 0.8681\n"
     ]
    }
   ],
   "source": [
    "# Structure1:\n",
    "    \n",
    "EMBED_DIM = 300\n",
    "LSTM_OUT = 128\n",
    "\n",
    "log_dir = \"logs/lstm/Structure1\"\n",
    "\n",
    "#callbacks\n",
    "tensorboard_callback = TensorBoard(log_dir=log_dir, histogram_freq=1)\n",
    "early_stop = EarlyStopping(monitor='val_loss', \n",
    "                           patience=3)\n",
    "cp_callback = ModelCheckpoint(filepath=\"Structure1_{epoch:02d}-{val_get_f1:.2f}.hdf5\",\n",
    "                              save_best_only=True,\n",
    "                              verbose=1)\n",
    "\n",
    "K.clear_session()\n",
    "\n",
    "model1 = Sequential()\n",
    "model1.add(Embedding(MAX_FEATURES, EMBED_DIM))\n",
    "model1.add(SpatialDropout1D(0.4))\n",
    "model1.add(LSTM(LSTM_OUT, dropout=0.2, recurrent_dropout=0.2))\n",
    "model1.add(Dense(1,activation='sigmoid'))\n",
    "model1.compile(loss = 'binary_crossentropy', optimizer='adam',metrics = ['accuracy', get_f1])\n",
    "\n",
    "model1.summary()\n",
    "\n",
    "\n",
    "\n",
    "batch_size = 512\n",
    "epochs = 30\n",
    "\n",
    "history1 = model1.fit(X_train_pad, y_train,\n",
    "                    batch_size=batch_size,\n",
    "                    epochs=epochs,\n",
    "                    verbose=2,\n",
    "                    callbacks=[tensorboard_callback, early_stop, cp_callback],\n",
    "                    validation_data=(X_val_pad, y_val), \n",
    "                    shuffle=True)"
   ]
  },
  {
   "cell_type": "code",
   "execution_count": null,
   "metadata": {
    "colab": {},
    "colab_type": "code",
    "id": "sClZqz371XVV",
    "outputId": "9dfeed3b-5aac-4e8b-dbd7-1e8f7630bf05"
   },
   "outputs": [
    {
     "name": "stdout",
     "output_type": "stream",
     "text": [
      "Model: \"sequential\"\n",
      "_________________________________________________________________\n",
      "Layer (type)                 Output Shape              Param #   \n",
      "=================================================================\n",
      "embedding (Embedding)        (None, None, 300)         15000000  \n",
      "_________________________________________________________________\n",
      "dropout (Dropout)            (None, None, 300)         0         \n",
      "_________________________________________________________________\n",
      "lstm (LSTM)                  (None, 128)               219648    \n",
      "_________________________________________________________________\n",
      "dense (Dense)                (None, 1)                 129       \n",
      "=================================================================\n",
      "Total params: 15,219,777\n",
      "Trainable params: 15,219,777\n",
      "Non-trainable params: 0\n",
      "_________________________________________________________________\n",
      "Train on 35822 samples, validate on 6322 samples\n",
      "Epoch 1/30\n",
      "\n",
      "Epoch 00001: val_loss improved from inf to 0.33505, saving model to Structure2_01-0.87.hdf5\n",
      "35822/35822 - 91s - loss: 0.5095 - accuracy: 0.7437 - get_f1: 0.6997 - val_loss: 0.3350 - val_accuracy: 0.8573 - val_get_f1: 0.8651\n",
      "Epoch 2/30\n",
      "\n",
      "Epoch 00002: val_loss improved from 0.33505 to 0.32383, saving model to Structure2_02-0.86.hdf5\n",
      "35822/35822 - 88s - loss: 0.2934 - accuracy: 0.8857 - get_f1: 0.8868 - val_loss: 0.3238 - val_accuracy: 0.8660 - val_get_f1: 0.8642\n",
      "Epoch 3/30\n",
      "\n",
      "Epoch 00003: val_loss did not improve from 0.32383\n",
      "35822/35822 - 87s - loss: 0.2590 - accuracy: 0.8983 - get_f1: 0.8966 - val_loss: 0.4783 - val_accuracy: 0.7751 - val_get_f1: 0.7673\n",
      "Epoch 4/30\n",
      "\n",
      "Epoch 00004: val_loss did not improve from 0.32383\n",
      "35822/35822 - 88s - loss: 0.3043 - accuracy: 0.8851 - get_f1: 0.8881 - val_loss: 0.4918 - val_accuracy: 0.8175 - val_get_f1: 0.7861\n",
      "Epoch 5/30\n",
      "\n",
      "Epoch 00005: val_loss did not improve from 0.32383\n",
      "35822/35822 - 87s - loss: 0.3031 - accuracy: 0.8729 - get_f1: 0.8716 - val_loss: 0.3716 - val_accuracy: 0.8633 - val_get_f1: 0.8584\n"
     ]
    }
   ],
   "source": [
    "# Structure2:\n",
    "    \n",
    "EMBED_DIM = 300\n",
    "LSTM_OUT = 128\n",
    "\n",
    "log_dir = \"logs/lstm/Structure2\"\n",
    "\n",
    "#callbacks\n",
    "tensorboard_callback = TensorBoard(log_dir=log_dir, histogram_freq=1)\n",
    "early_stop = EarlyStopping(monitor='val_loss', \n",
    "                           patience=3)\n",
    "cp_callback = ModelCheckpoint(filepath=\"Structure2_{epoch:02d}-{val_get_f1:.2f}.hdf5\",\n",
    "                              save_best_only=True,\n",
    "                              verbose=1)\n",
    "\n",
    "K.clear_session()\n",
    "\n",
    "model2 = Sequential()\n",
    "model2.add(Embedding(MAX_FEATURES, EMBED_DIM))\n",
    "model2.add(Dropout(0.4))\n",
    "model2.add(LSTM(LSTM_OUT, dropout=0.2, recurrent_dropout=0.2))\n",
    "model2.add(Dense(1,activation='sigmoid'))\n",
    "model2.compile(loss = 'binary_crossentropy', optimizer='adam',metrics = ['accuracy', get_f1])\n",
    "\n",
    "model2.summary()\n",
    "\n",
    "batch_size = 512\n",
    "epochs = 30\n",
    "\n",
    "history2 = model2.fit(X_train_pad, y_train,\n",
    "                    batch_size=batch_size,\n",
    "                    epochs=epochs,\n",
    "                    verbose=2,\n",
    "                    callbacks=[tensorboard_callback, early_stop, cp_callback],\n",
    "                    validation_data=(X_val_pad, y_val), \n",
    "                    shuffle=True)"
   ]
  },
  {
   "cell_type": "code",
   "execution_count": null,
   "metadata": {
    "colab": {},
    "colab_type": "code",
    "id": "81-iaE5j1XVX",
    "outputId": "83e10659-e44a-43d0-d5bf-7ae01f006c0d"
   },
   "outputs": [
    {
     "name": "stdout",
     "output_type": "stream",
     "text": [
      "Model: \"sequential\"\n",
      "_________________________________________________________________\n",
      "Layer (type)                 Output Shape              Param #   \n",
      "=================================================================\n",
      "embedding (Embedding)        (None, None, 128)         2560000   \n",
      "_________________________________________________________________\n",
      "dropout (Dropout)            (None, None, 128)         0         \n",
      "_________________________________________________________________\n",
      "lstm (LSTM)                  (None, 128)               131584    \n",
      "_________________________________________________________________\n",
      "dense (Dense)                (None, 1)                 129       \n",
      "=================================================================\n",
      "Total params: 2,691,713\n",
      "Trainable params: 2,691,713\n",
      "Non-trainable params: 0\n",
      "_________________________________________________________________\n",
      "Train on 35822 samples, validate on 6322 samples\n",
      "Epoch 1/30\n",
      "\n",
      "Epoch 00001: val_loss improved from inf to 0.33252, saving model to Structure3_01-0.86.hdf5\n",
      "35822/35822 - 30s - loss: 0.5819 - accuracy: 0.6880 - get_f1: 0.6827 - val_loss: 0.3325 - val_accuracy: 0.8597 - val_get_f1: 0.8602\n",
      "Epoch 2/30\n",
      "\n",
      "Epoch 00002: val_loss improved from 0.33252 to 0.30534, saving model to Structure3_02-0.87.hdf5\n",
      "35822/35822 - 27s - loss: 0.3279 - accuracy: 0.8674 - get_f1: 0.8676 - val_loss: 0.3053 - val_accuracy: 0.8754 - val_get_f1: 0.8700\n",
      "Epoch 3/30\n",
      "\n",
      "Epoch 00003: val_loss did not improve from 0.30534\n",
      "35822/35822 - 28s - loss: 0.2552 - accuracy: 0.9024 - get_f1: 0.9029 - val_loss: 0.3158 - val_accuracy: 0.8668 - val_get_f1: 0.8678\n",
      "Epoch 4/30\n",
      "\n",
      "Epoch 00004: val_loss did not improve from 0.30534\n",
      "35822/35822 - 27s - loss: 0.2184 - accuracy: 0.9176 - get_f1: 0.9181 - val_loss: 0.3207 - val_accuracy: 0.8796 - val_get_f1: 0.8735\n",
      "Epoch 5/30\n",
      "\n",
      "Epoch 00005: val_loss did not improve from 0.30534\n",
      "35822/35822 - 28s - loss: 0.1912 - accuracy: 0.9304 - get_f1: 0.9307 - val_loss: 0.3274 - val_accuracy: 0.8670 - val_get_f1: 0.8647\n"
     ]
    }
   ],
   "source": [
    "# Structure3:\n",
    "\n",
    "MAX_FEATURES_3 = 20000\n",
    "MAX_LEN_3 = 200\n",
    "\n",
    "\n",
    "tokenizer_3 = Tokenizer(num_words=MAX_FEATURES_3, oov_token='unk')\n",
    "\n",
    "# only fit on train\n",
    "tokenizer_3.fit_on_texts(X_train)\n",
    "\n",
    "X_train_seq_3 = tokenizer_3.texts_to_sequences(X_train)\n",
    "X_val_seq_3 = tokenizer_3.texts_to_sequences(X_val)\n",
    "X_test_seq_3 = tokenizer_3.texts_to_sequences(X_test)\n",
    "\n",
    "\n",
    "X_train_pad_3 = pad_sequences(X_train_seq_3, maxlen=MAX_LEN_3)\n",
    "X_val_pad_3 = pad_sequences(X_val_seq_3, maxlen=MAX_LEN_3)\n",
    "X_test_pad_3 = pad_sequences(X_test_seq_3, maxlen=MAX_LEN_3)\n",
    "\n",
    "EMBED_DIM_3 = 128\n",
    "LSTM_OUT = 128\n",
    "\n",
    "log_dir = \"logs/lstm/Structure3\"\n",
    "\n",
    "#callbacks\n",
    "tensorboard_callback = TensorBoard(log_dir=log_dir, histogram_freq=1)\n",
    "early_stop = EarlyStopping(monitor='val_loss', \n",
    "                           patience=3)\n",
    "cp_callback = ModelCheckpoint(filepath=\"Structure3_{epoch:02d}-{val_get_f1:.2f}.hdf5\",\n",
    "                              save_best_only=True,\n",
    "                              verbose=1)\n",
    "\n",
    "K.clear_session()\n",
    "\n",
    "model3 = Sequential()\n",
    "model3.add(Embedding(MAX_FEATURES_3, EMBED_DIM_3))\n",
    "model3.add(Dropout(0.4))\n",
    "model3.add(LSTM(LSTM_OUT, dropout=0.2, recurrent_dropout=0.2))\n",
    "model3.add(Dense(1,activation='sigmoid'))\n",
    "model3.compile(loss = 'binary_crossentropy', optimizer='adam',metrics = ['accuracy', get_f1])\n",
    "\n",
    "model3.summary()\n",
    "\n",
    "batch_size = 512\n",
    "epochs = 30\n",
    "\n",
    "history3 = model3.fit(X_train_pad_3, y_train,\n",
    "                    batch_size=batch_size,\n",
    "                    epochs=epochs,\n",
    "                    verbose=2,\n",
    "                    callbacks=[tensorboard_callback, early_stop, cp_callback],\n",
    "                    validation_data=(X_val_pad_3, y_val), \n",
    "                    shuffle=True)\n"
   ]
  },
  {
   "cell_type": "code",
   "execution_count": null,
   "metadata": {
    "colab": {},
    "colab_type": "code",
    "id": "fYnZg60M1XVZ",
    "outputId": "6d53644c-a28d-4aa3-8cc3-5b810066f1eb"
   },
   "outputs": [
    {
     "name": "stdout",
     "output_type": "stream",
     "text": [
      "Model: \"sequential\"\n",
      "_________________________________________________________________\n",
      "Layer (type)                 Output Shape              Param #   \n",
      "=================================================================\n",
      "embedding (Embedding)        (None, None, 128)         2560000   \n",
      "_________________________________________________________________\n",
      "spatial_dropout1d (SpatialDr (None, None, 128)         0         \n",
      "_________________________________________________________________\n",
      "lstm (LSTM)                  (None, 128)               131584    \n",
      "_________________________________________________________________\n",
      "dense (Dense)                (None, 1)                 129       \n",
      "=================================================================\n",
      "Total params: 2,691,713\n",
      "Trainable params: 2,691,713\n",
      "Non-trainable params: 0\n",
      "_________________________________________________________________\n",
      "Train on 35822 samples, validate on 6322 samples\n",
      "Epoch 1/30\n",
      "\n",
      "Epoch 00001: val_loss improved from inf to 0.36461, saving model to Structure4_01-0.83.hdf5\n",
      "35822/35822 - 30s - loss: 0.5409 - accuracy: 0.7187 - get_f1: 0.6623 - val_loss: 0.3646 - val_accuracy: 0.8481 - val_get_f1: 0.8329\n",
      "Epoch 2/30\n",
      "\n",
      "Epoch 00002: val_loss improved from 0.36461 to 0.33498, saving model to Structure4_02-0.86.hdf5\n",
      "35822/35822 - 27s - loss: 0.3222 - accuracy: 0.8697 - get_f1: 0.8699 - val_loss: 0.3350 - val_accuracy: 0.8606 - val_get_f1: 0.8616\n",
      "Epoch 3/30\n",
      "\n",
      "Epoch 00003: val_loss improved from 0.33498 to 0.29611, saving model to Structure4_03-0.88.hdf5\n",
      "35822/35822 - 27s - loss: 0.2600 - accuracy: 0.8986 - get_f1: 0.8991 - val_loss: 0.2961 - val_accuracy: 0.8814 - val_get_f1: 0.8813\n",
      "Epoch 4/30\n",
      "\n",
      "Epoch 00004: val_loss did not improve from 0.29611\n",
      "35822/35822 - 27s - loss: 0.2271 - accuracy: 0.9132 - get_f1: 0.9136 - val_loss: 0.3182 - val_accuracy: 0.8703 - val_get_f1: 0.8683\n",
      "Epoch 5/30\n",
      "\n",
      "Epoch 00005: val_loss did not improve from 0.29611\n",
      "35822/35822 - 26s - loss: 0.1951 - accuracy: 0.9266 - get_f1: 0.9269 - val_loss: 0.3272 - val_accuracy: 0.8687 - val_get_f1: 0.8700\n",
      "Epoch 6/30\n",
      "\n",
      "Epoch 00006: val_loss did not improve from 0.29611\n",
      "35822/35822 - 28s - loss: 0.1721 - accuracy: 0.9368 - get_f1: 0.9371 - val_loss: 0.3495 - val_accuracy: 0.8572 - val_get_f1: 0.8596\n"
     ]
    }
   ],
   "source": [
    "# Structure4:\n",
    "\n",
    "\n",
    "\n",
    "log_dir = \"logs/lstm/Structure4\"\n",
    "\n",
    "#callbacks\n",
    "tensorboard_callback = TensorBoard(log_dir=log_dir, histogram_freq=1)\n",
    "early_stop = EarlyStopping(monitor='val_loss', \n",
    "                           patience=3)\n",
    "cp_callback = ModelCheckpoint(filepath=\"Structure4_{epoch:02d}-{val_get_f1:.2f}.hdf5\",\n",
    "                              save_best_only=True,\n",
    "                              verbose=1)\n",
    "\n",
    "K.clear_session()\n",
    "\n",
    "model4 = Sequential()\n",
    "model4.add(Embedding(MAX_FEATURES_3, EMBED_DIM_3))\n",
    "model4.add(SpatialDropout1D(0.4))\n",
    "model4.add(LSTM(LSTM_OUT, dropout=0.2, recurrent_dropout=0.2))\n",
    "model4.add(Dense(1,activation='sigmoid'))\n",
    "model4.compile(loss = 'binary_crossentropy', optimizer='adam',metrics = ['accuracy', get_f1])\n",
    "\n",
    "model4.summary()\n",
    "\n",
    "batch_size = 512\n",
    "epochs = 30\n",
    "\n",
    "history4 = model4.fit(X_train_pad_3, y_train,\n",
    "                    batch_size=batch_size,\n",
    "                    epochs=epochs,\n",
    "                    verbose=2,\n",
    "                    callbacks=[tensorboard_callback, early_stop, cp_callback],\n",
    "                    validation_data=(X_val_pad_3, y_val), \n",
    "                    shuffle=True)"
   ]
  },
  {
   "cell_type": "code",
   "execution_count": null,
   "metadata": {
    "colab": {},
    "colab_type": "code",
    "id": "Y6XFFJ4T1XVb",
    "outputId": "88ee5199-2f5f-4be1-84cd-c582fbe4dd80"
   },
   "outputs": [
    {
     "name": "stdout",
     "output_type": "stream",
     "text": [
      "Model: \"sequential\"\n",
      "_________________________________________________________________\n",
      "Layer (type)                 Output Shape              Param #   \n",
      "=================================================================\n",
      "embedding (Embedding)        (None, None, 300)         15000000  \n",
      "_________________________________________________________________\n",
      "lstm (LSTM)                  (None, 128)               219648    \n",
      "_________________________________________________________________\n",
      "dropout (Dropout)            (None, 128)               0         \n",
      "_________________________________________________________________\n",
      "dense (Dense)                (None, 1)                 129       \n",
      "=================================================================\n",
      "Total params: 15,219,777\n",
      "Trainable params: 15,219,777\n",
      "Non-trainable params: 0\n",
      "_________________________________________________________________\n",
      "Train on 35822 samples, validate on 6322 samples\n",
      "Epoch 1/30\n",
      "\n",
      "Epoch 00001: val_loss improved from inf to 0.36662, saving model to Structure5_01-0.84.hdf5\n",
      "35822/35822 - 89s - loss: 0.5021 - accuracy: 0.7542 - get_f1: 0.7117 - val_loss: 0.3666 - val_accuracy: 0.8458 - val_get_f1: 0.8438\n",
      "Epoch 2/30\n",
      "\n",
      "Epoch 00002: val_loss improved from 0.36662 to 0.32761, saving model to Structure5_02-0.86.hdf5\n",
      "35822/35822 - 86s - loss: 0.2705 - accuracy: 0.8961 - get_f1: 0.8966 - val_loss: 0.3276 - val_accuracy: 0.8662 - val_get_f1: 0.8600\n",
      "Epoch 3/30\n",
      "\n",
      "Epoch 00003: val_loss did not improve from 0.32761\n",
      "35822/35822 - 86s - loss: 0.1937 - accuracy: 0.9308 - get_f1: 0.9309 - val_loss: 0.3373 - val_accuracy: 0.8622 - val_get_f1: 0.8592\n",
      "Epoch 4/30\n",
      "\n",
      "Epoch 00004: val_loss did not improve from 0.32761\n",
      "35822/35822 - 85s - loss: 0.1587 - accuracy: 0.9458 - get_f1: 0.9460 - val_loss: 0.3805 - val_accuracy: 0.8668 - val_get_f1: 0.8711\n",
      "Epoch 5/30\n",
      "\n",
      "Epoch 00005: val_loss did not improve from 0.32761\n",
      "35822/35822 - 86s - loss: 0.1325 - accuracy: 0.9546 - get_f1: 0.9549 - val_loss: 0.3949 - val_accuracy: 0.8597 - val_get_f1: 0.8530\n"
     ]
    }
   ],
   "source": [
    "# Structure5:\n",
    "    \n",
    "EMBED_DIM = 300\n",
    "LSTM_OUT = 128\n",
    "\n",
    "log_dir = \"logs/lstm/Structure5\"\n",
    "\n",
    "#callbacks\n",
    "tensorboard_callback = TensorBoard(log_dir=log_dir, histogram_freq=1)\n",
    "early_stop = EarlyStopping(monitor='val_loss', \n",
    "                           patience=3)\n",
    "cp_callback = ModelCheckpoint(filepath=\"Structure5_{epoch:02d}-{val_get_f1:.2f}.hdf5\",\n",
    "                              save_best_only=True,\n",
    "                              verbose=1)\n",
    "\n",
    "K.clear_session()\n",
    "\n",
    "model5 = Sequential()\n",
    "model5.add(Embedding(MAX_FEATURES, EMBED_DIM))\n",
    "model5.add(LSTM(LSTM_OUT, dropout=0.2, recurrent_dropout=0.2))\n",
    "model5.add(Dropout(0.4))\n",
    "model5.add(Dense(1,activation='sigmoid'))\n",
    "model5.compile(loss = 'binary_crossentropy', optimizer='adam',metrics = ['accuracy', get_f1])\n",
    "\n",
    "model5.summary()\n",
    "\n",
    "\n",
    "\n",
    "batch_size = 512\n",
    "epochs = 30\n",
    "\n",
    "history5 = model5.fit(X_train_pad, y_train,\n",
    "                    batch_size=batch_size,\n",
    "                    epochs=epochs,\n",
    "                    verbose=2,\n",
    "                    callbacks=[tensorboard_callback, early_stop, cp_callback],\n",
    "                    validation_data=(X_val_pad, y_val), \n",
    "                    shuffle=True)"
   ]
  },
  {
   "cell_type": "code",
   "execution_count": null,
   "metadata": {
    "colab": {},
    "colab_type": "code",
    "id": "0mSp_-fp1XVd",
    "outputId": "442e9f90-ac60-453a-9811-36b6e3268c46"
   },
   "outputs": [
    {
     "name": "stdout",
     "output_type": "stream",
     "text": [
      "Model: \"sequential\"\n",
      "_________________________________________________________________\n",
      "Layer (type)                 Output Shape              Param #   \n",
      "=================================================================\n",
      "embedding (Embedding)        (None, None, 300)         15000000  \n",
      "_________________________________________________________________\n",
      "lstm (LSTM)                  (None, 128)               219648    \n",
      "_________________________________________________________________\n",
      "dense (Dense)                (None, 1)                 129       \n",
      "=================================================================\n",
      "Total params: 15,219,777\n",
      "Trainable params: 15,219,777\n",
      "Non-trainable params: 0\n",
      "_________________________________________________________________\n",
      "Train on 35822 samples, validate on 6322 samples\n",
      "Epoch 1/30\n",
      "\n",
      "Epoch 00001: val_loss improved from inf to 0.34128, saving model to Structure6_01-0.86.hdf5\n",
      "35822/35822 - 38s - loss: 0.5557 - accuracy: 0.7220 - get_f1: 0.7477 - val_loss: 0.3413 - val_accuracy: 0.8587 - val_get_f1: 0.8560\n",
      "Epoch 2/30\n",
      "\n",
      "Epoch 00002: val_loss improved from 0.34128 to 0.26757, saving model to Structure6_02-0.89.hdf5\n",
      "35822/35822 - 34s - loss: 0.2420 - accuracy: 0.9032 - get_f1: 0.9036 - val_loss: 0.2676 - val_accuracy: 0.8902 - val_get_f1: 0.8915\n",
      "Epoch 3/30\n",
      "\n",
      "Epoch 00003: val_loss did not improve from 0.26757\n",
      "35822/35822 - 34s - loss: 0.1334 - accuracy: 0.9547 - get_f1: 0.9547 - val_loss: 0.2983 - val_accuracy: 0.8984 - val_get_f1: 0.8964\n",
      "Epoch 4/30\n",
      "\n",
      "Epoch 00004: val_loss did not improve from 0.26757\n",
      "35822/35822 - 33s - loss: 0.0742 - accuracy: 0.9770 - get_f1: 0.9769 - val_loss: 0.3429 - val_accuracy: 0.8750 - val_get_f1: 0.8784\n",
      "Epoch 5/30\n",
      "\n",
      "Epoch 00005: val_loss did not improve from 0.26757\n",
      "35822/35822 - 34s - loss: 0.0746 - accuracy: 0.9766 - get_f1: 0.9766 - val_loss: 0.3815 - val_accuracy: 0.8774 - val_get_f1: 0.8756\n"
     ]
    }
   ],
   "source": [
    "# Structure6:\n",
    "    \n",
    "EMBED_DIM = 300\n",
    "LSTM_OUT = 128\n",
    "\n",
    "log_dir = \"logs/lstm/Structure6\"\n",
    "\n",
    "#callbacks\n",
    "tensorboard_callback = TensorBoard(log_dir=log_dir, histogram_freq=1)\n",
    "early_stop = EarlyStopping(monitor='val_loss', \n",
    "                           patience=3)\n",
    "cp_callback = ModelCheckpoint(filepath=\"Structure6_{epoch:02d}-{val_get_f1:.2f}.hdf5\",\n",
    "                              save_best_only=True,\n",
    "                              verbose=1)\n",
    "\n",
    "K.clear_session()\n",
    "\n",
    "model6 = Sequential()\n",
    "model6.add(Embedding(MAX_FEATURES, EMBED_DIM))\n",
    "model6.add(LSTM(LSTM_OUT))\n",
    "model6.add(Dense(1,activation='sigmoid'))\n",
    "model6.compile(loss = 'binary_crossentropy', optimizer='adam',metrics = ['accuracy', get_f1])\n",
    "\n",
    "model6.summary()\n",
    "\n",
    "\n",
    "\n",
    "batch_size = 512\n",
    "epochs = 30\n",
    "\n",
    "history6 = model6.fit(X_train_pad, y_train,\n",
    "                    batch_size=batch_size,\n",
    "                    epochs=epochs,\n",
    "                    verbose=2,\n",
    "                    callbacks=[tensorboard_callback, early_stop, cp_callback],\n",
    "                    validation_data=(X_val_pad, y_val), \n",
    "                    shuffle=True)"
   ]
  },
  {
   "cell_type": "code",
   "execution_count": null,
   "metadata": {
    "colab": {},
    "colab_type": "code",
    "id": "Z3VwMnaN1XVf",
    "outputId": "99a643bb-a237-4d3c-c1da-48b580ffe7a9"
   },
   "outputs": [
    {
     "name": "stdout",
     "output_type": "stream",
     "text": [
      "Model: \"sequential\"\n",
      "_________________________________________________________________\n",
      "Layer (type)                 Output Shape              Param #   \n",
      "=================================================================\n",
      "embedding (Embedding)        (None, None, 300)         15000000  \n",
      "_________________________________________________________________\n",
      "spatial_dropout1d (SpatialDr (None, None, 300)         0         \n",
      "_________________________________________________________________\n",
      "lstm (LSTM)                  (None, 128)               219648    \n",
      "_________________________________________________________________\n",
      "dropout (Dropout)            (None, 128)               0         \n",
      "_________________________________________________________________\n",
      "dense (Dense)                (None, 1)                 129       \n",
      "=================================================================\n",
      "Total params: 15,219,777\n",
      "Trainable params: 15,219,777\n",
      "Non-trainable params: 0\n",
      "_________________________________________________________________\n",
      "Train on 35822 samples, validate on 6322 samples\n",
      "Epoch 1/30\n",
      "\n",
      "Epoch 00001: val_loss improved from inf to 0.33806, saving model to Structure7_01-0.86.hdf5\n",
      "35822/35822 - 89s - loss: 0.5313 - accuracy: 0.7291 - get_f1: 0.7382 - val_loss: 0.3381 - val_accuracy: 0.8644 - val_get_f1: 0.8640\n",
      "Epoch 2/30\n",
      "\n",
      "Epoch 00002: val_loss improved from 0.33806 to 0.33386, saving model to Structure7_02-0.87.hdf5\n",
      "35822/35822 - 86s - loss: 0.3023 - accuracy: 0.8797 - get_f1: 0.8810 - val_loss: 0.3339 - val_accuracy: 0.8621 - val_get_f1: 0.8696\n",
      "Epoch 3/30\n",
      "\n",
      "Epoch 00003: val_loss did not improve from 0.33386\n",
      "35822/35822 - 85s - loss: 0.2302 - accuracy: 0.9151 - get_f1: 0.9158 - val_loss: 0.3581 - val_accuracy: 0.8488 - val_get_f1: 0.8472\n",
      "Epoch 4/30\n",
      "\n",
      "Epoch 00004: val_loss did not improve from 0.33386\n",
      "35822/35822 - 85s - loss: 0.1976 - accuracy: 0.9285 - get_f1: 0.9291 - val_loss: 0.3356 - val_accuracy: 0.8776 - val_get_f1: 0.8793\n",
      "Epoch 5/30\n",
      "\n",
      "Epoch 00005: val_loss did not improve from 0.33386\n",
      "35822/35822 - 86s - loss: 0.1628 - accuracy: 0.9428 - get_f1: 0.9431 - val_loss: 0.3635 - val_accuracy: 0.8624 - val_get_f1: 0.8546\n"
     ]
    }
   ],
   "source": [
    "# Structure7:\n",
    "    \n",
    "EMBED_DIM = 300\n",
    "LSTM_OUT = 128\n",
    "\n",
    "log_dir = \"logs/lstm/Structure7\"\n",
    "\n",
    "#callbacks\n",
    "tensorboard_callback = TensorBoard(log_dir=log_dir, histogram_freq=1)\n",
    "early_stop = EarlyStopping(monitor='val_loss', \n",
    "                           patience=3)\n",
    "cp_callback = ModelCheckpoint(filepath=\"Structure7_{epoch:02d}-{val_get_f1:.2f}.hdf5\",\n",
    "                              save_best_only=True,\n",
    "                              verbose=1)\n",
    "\n",
    "K.clear_session()\n",
    "\n",
    "model7 = Sequential()\n",
    "model7.add(Embedding(MAX_FEATURES, EMBED_DIM))\n",
    "model7.add(SpatialDropout1D(0.4))\n",
    "model7.add(LSTM(LSTM_OUT, dropout=0.2, recurrent_dropout=0.2))\n",
    "model7.add(Dropout(0.4))\n",
    "model7.add(Dense(1,activation='sigmoid'))\n",
    "model7.compile(loss = 'binary_crossentropy', optimizer='adam',metrics = ['accuracy', get_f1])\n",
    "\n",
    "model7.summary()\n",
    "\n",
    "\n",
    "\n",
    "batch_size = 512\n",
    "epochs = 30\n",
    "\n",
    "history5 = model7.fit(X_train_pad, y_train,\n",
    "                    batch_size=batch_size,\n",
    "                    epochs=epochs,\n",
    "                    verbose=2,\n",
    "                    callbacks=[tensorboard_callback, early_stop, cp_callback],\n",
    "                    validation_data=(X_val_pad, y_val), \n",
    "                    shuffle=True)"
   ]
  },
  {
   "cell_type": "code",
   "execution_count": null,
   "metadata": {
    "colab": {},
    "colab_type": "code",
    "id": "9uNMqduc1XVg",
    "outputId": "d38a08d9-5af9-47dd-871b-d7a38de9628c"
   },
   "outputs": [
    {
     "name": "stdout",
     "output_type": "stream",
     "text": [
      "Model: \"sequential\"\n",
      "_________________________________________________________________\n",
      "Layer (type)                 Output Shape              Param #   \n",
      "=================================================================\n",
      "embedding (Embedding)        (None, None, 300)         15000000  \n",
      "_________________________________________________________________\n",
      "spatial_dropout1d (SpatialDr (None, None, 300)         0         \n",
      "_________________________________________________________________\n",
      "lstm (LSTM)                  (None, 128)               219648    \n",
      "_________________________________________________________________\n",
      "dense (Dense)                (None, 1)                 129       \n",
      "=================================================================\n",
      "Total params: 15,219,777\n",
      "Trainable params: 15,219,777\n",
      "Non-trainable params: 0\n",
      "_________________________________________________________________\n",
      "Train on 35822 samples, validate on 6322 samples\n",
      "Epoch 1/30\n",
      "\n",
      "Epoch 00001: val_loss improved from inf to 0.36109, saving model to Structure8_01-0.84.hdf5\n",
      "35822/35822 - 90s - loss: 0.4878 - accuracy: 0.7576 - get_f1: 0.7680 - val_loss: 0.3611 - val_accuracy: 0.8477 - val_get_f1: 0.8383\n",
      "Epoch 2/30\n",
      "\n",
      "Epoch 00002: val_loss improved from 0.36109 to 0.29514, saving model to Structure8_02-0.88.hdf5\n",
      "35822/35822 - 88s - loss: 0.2778 - accuracy: 0.8899 - get_f1: 0.8903 - val_loss: 0.2951 - val_accuracy: 0.8806 - val_get_f1: 0.8795\n",
      "Epoch 3/30\n",
      "\n",
      "Epoch 00003: val_loss did not improve from 0.29514\n",
      "35822/35822 - 86s - loss: 0.2086 - accuracy: 0.9228 - get_f1: 0.9225 - val_loss: 0.3128 - val_accuracy: 0.8746 - val_get_f1: 0.8766\n",
      "Epoch 4/30\n",
      "\n",
      "Epoch 00004: val_loss did not improve from 0.29514\n",
      "35822/35822 - 87s - loss: 0.1678 - accuracy: 0.9410 - get_f1: 0.9412 - val_loss: 0.3429 - val_accuracy: 0.8709 - val_get_f1: 0.8708\n",
      "Epoch 5/30\n",
      "\n",
      "Epoch 00005: val_loss did not improve from 0.29514\n",
      "35822/35822 - 86s - loss: 0.1332 - accuracy: 0.9548 - get_f1: 0.9549 - val_loss: 0.3809 - val_accuracy: 0.8548 - val_get_f1: 0.8538\n"
     ]
    }
   ],
   "source": [
    "# Structure8:\n",
    "    \n",
    "EMBED_DIM = 300\n",
    "LSTM_OUT = 128\n",
    "\n",
    "log_dir = \"logs/lstm/Structure8\"\n",
    "\n",
    "#callbacks\n",
    "tensorboard_callback = TensorBoard(log_dir=log_dir, histogram_freq=1)\n",
    "early_stop = EarlyStopping(monitor='val_loss', \n",
    "                           patience=3)\n",
    "cp_callback = ModelCheckpoint(filepath=\"Structure8_{epoch:02d}-{val_get_f1:.2f}.hdf5\",\n",
    "                              save_best_only=True,\n",
    "                              verbose=1)\n",
    "\n",
    "K.clear_session()\n",
    "\n",
    "model8 = Sequential()\n",
    "model8.add(Embedding(MAX_FEATURES, EMBED_DIM))\n",
    "model8.add(SpatialDropout1D(0.2))\n",
    "model8.add(LSTM(LSTM_OUT, dropout=0.2, recurrent_dropout=0.2))\n",
    "model8.add(Dense(1,activation='sigmoid'))\n",
    "model8.compile(loss = 'binary_crossentropy', optimizer='adam',metrics = ['accuracy', get_f1])\n",
    "\n",
    "model8.summary()\n",
    "\n",
    "\n",
    "\n",
    "batch_size = 512\n",
    "epochs = 30\n",
    "\n",
    "history8 = model8.fit(X_train_pad, y_train,\n",
    "                    batch_size=batch_size,\n",
    "                    epochs=epochs,\n",
    "                    verbose=2,\n",
    "                    callbacks=[tensorboard_callback, early_stop, cp_callback],\n",
    "                    validation_data=(X_val_pad, y_val), \n",
    "                    shuffle=True)"
   ]
  },
  {
   "cell_type": "code",
   "execution_count": null,
   "metadata": {
    "colab": {},
    "colab_type": "code",
    "id": "AL9-am6r1XVj",
    "outputId": "59ddaefc-d079-4af8-86c9-b02b6bed16cb"
   },
   "outputs": [
    {
     "name": "stdout",
     "output_type": "stream",
     "text": [
      "Model: \"sequential\"\n",
      "_________________________________________________________________\n",
      "Layer (type)                 Output Shape              Param #   \n",
      "=================================================================\n",
      "embedding (Embedding)        (None, None, 300)         15000000  \n",
      "_________________________________________________________________\n",
      "spatial_dropout1d (SpatialDr (None, None, 300)         0         \n",
      "_________________________________________________________________\n",
      "lstm (LSTM)                  (None, 128)               219648    \n",
      "_________________________________________________________________\n",
      "dense (Dense)                (None, 1)                 129       \n",
      "=================================================================\n",
      "Total params: 15,219,777\n",
      "Trainable params: 15,219,777\n",
      "Non-trainable params: 0\n",
      "_________________________________________________________________\n",
      "Train on 35822 samples, validate on 6322 samples\n",
      "Epoch 1/30\n",
      "\n",
      "Epoch 00001: val_loss improved from inf to 0.29974, saving model to Structure9_01-0.88.hdf5\n",
      "35822/35822 - 90s - loss: 0.4919 - accuracy: 0.7574 - get_f1: 0.7399 - val_loss: 0.2997 - val_accuracy: 0.8776 - val_get_f1: 0.8804\n",
      "Epoch 2/30\n",
      "\n",
      "Epoch 00002: val_loss improved from 0.29974 to 0.29367, saving model to Structure9_02-0.88.hdf5\n",
      "35822/35822 - 86s - loss: 0.2753 - accuracy: 0.8937 - get_f1: 0.8948 - val_loss: 0.2937 - val_accuracy: 0.8754 - val_get_f1: 0.8777\n",
      "Epoch 3/30\n",
      "\n",
      "Epoch 00003: val_loss did not improve from 0.29367\n",
      "35822/35822 - 88s - loss: 0.2150 - accuracy: 0.9218 - get_f1: 0.9224 - val_loss: 0.3102 - val_accuracy: 0.8733 - val_get_f1: 0.8756\n",
      "Epoch 4/30\n",
      "\n",
      "Epoch 00004: val_loss did not improve from 0.29367\n",
      "35822/35822 - 87s - loss: 0.1710 - accuracy: 0.9381 - get_f1: 0.9385 - val_loss: 0.3246 - val_accuracy: 0.8760 - val_get_f1: 0.8730\n",
      "Epoch 5/30\n",
      "\n",
      "Epoch 00005: val_loss did not improve from 0.29367\n",
      "35822/35822 - 87s - loss: 0.1202 - accuracy: 0.9587 - get_f1: 0.9589 - val_loss: 0.3393 - val_accuracy: 0.8866 - val_get_f1: 0.8887\n"
     ]
    }
   ],
   "source": [
    "# Structure9:\n",
    "    \n",
    "EMBED_DIM = 300\n",
    "LSTM_OUT = 128\n",
    "\n",
    "log_dir = \"logs/lstm/Structure9\"\n",
    "\n",
    "#callbacks\n",
    "tensorboard_callback = TensorBoard(log_dir=log_dir, histogram_freq=1)\n",
    "early_stop = EarlyStopping(monitor='val_loss', \n",
    "                           patience=3)\n",
    "cp_callback = ModelCheckpoint(filepath=\"Structure9_{epoch:02d}-{val_get_f1:.2f}.hdf5\",\n",
    "                              save_best_only=True,\n",
    "                              verbose=1)\n",
    "\n",
    "K.clear_session()\n",
    "\n",
    "model9 = Sequential()\n",
    "model9.add(Embedding(MAX_FEATURES, EMBED_DIM))\n",
    "model9.add(SpatialDropout1D(0.4))\n",
    "model9.add(LSTM(LSTM_OUT, dropout=0.1, recurrent_dropout=0.1))\n",
    "model9.add(Dense(1,activation='sigmoid'))\n",
    "model9.compile(loss = 'binary_crossentropy', optimizer='adam',metrics = ['accuracy', get_f1])\n",
    "\n",
    "model9.summary()\n",
    "\n",
    "\n",
    "\n",
    "batch_size = 512\n",
    "epochs = 30\n",
    "\n",
    "history9 = model9.fit(X_train_pad, y_train,\n",
    "                    batch_size=batch_size,\n",
    "                    epochs=epochs,\n",
    "                    verbose=2,\n",
    "                    callbacks=[tensorboard_callback, early_stop, cp_callback],\n",
    "                    validation_data=(X_val_pad, y_val), \n",
    "                    shuffle=True)"
   ]
  },
  {
   "cell_type": "code",
   "execution_count": null,
   "metadata": {
    "colab": {},
    "colab_type": "code",
    "id": "g8ufTewR1XVl"
   },
   "outputs": [],
   "source": []
  },
  {
   "cell_type": "code",
   "execution_count": null,
   "metadata": {
    "colab": {},
    "colab_type": "code",
    "id": "RWkXd9_K1XVo"
   },
   "outputs": [],
   "source": []
  }
 ],
 "metadata": {
  "colab": {
   "collapsed_sections": [],
   "name": "imdb_RNN_LSTM.ipynb",
   "provenance": []
  },
  "kernelspec": {
   "display_name": "Python 3",
   "language": "python",
   "name": "python3"
  },
  "language_info": {
   "codemirror_mode": {
    "name": "ipython",
    "version": 3
   },
   "file_extension": ".py",
   "mimetype": "text/x-python",
   "name": "python",
   "nbconvert_exporter": "python",
   "pygments_lexer": "ipython3",
   "version": "3.7.7"
  }
 },
 "nbformat": 4,
 "nbformat_minor": 4
}
